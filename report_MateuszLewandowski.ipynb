{
 "cells": [
  {
   "cell_type": "code",
   "execution_count": 5,
   "metadata": {},
   "outputs": [
    {
     "name": "stderr",
     "output_type": "stream",
     "text": [
      "Using TensorFlow backend.\n"
     ]
    }
   ],
   "source": [
    "import pandas as pd\n",
    "import numpy as np\n",
    "import seaborn as sns\n",
    "from datetime import datetime\n",
    "import keras\n",
    "import matplotlib.pyplot as plt"
   ]
  },
  {
   "cell_type": "markdown",
   "metadata": {},
   "source": [
    "First check whether in the data are nans"
   ]
  },
  {
   "cell_type": "code",
   "execution_count": 6,
   "metadata": {},
   "outputs": [
    {
     "data": {
      "text/plain": [
       "V1           0\n",
       "V2           0\n",
       "V3           0\n",
       "V4           0\n",
       "V5           0\n",
       "V6           0\n",
       "V7           0\n",
       "V8           0\n",
       "V9           0\n",
       "V10          0\n",
       "V11          0\n",
       "V12          0\n",
       "V13          0\n",
       "V14          0\n",
       "V15          0\n",
       "V16          0\n",
       "V17          0\n",
       "V18          0\n",
       "V19          0\n",
       "V20          0\n",
       "treatment    0\n",
       "purchase     0\n",
       "dtype: int64"
      ]
     },
     "execution_count": 6,
     "metadata": {},
     "output_type": "execute_result"
    }
   ],
   "source": [
    "path_pilot = 'D:/ERAZER/Downloads/pilot.csv'\n",
    "path_CB = 'D:/ERAZER/Downloads/CustomerBase.csv'\n",
    "CB = pd.read_csv(path_CB)\n",
    "pilot = pd.read_csv(path_pilot)\n",
    "pilot.isna().sum()"
   ]
  },
  {
   "cell_type": "code",
   "execution_count": 7,
   "metadata": {},
   "outputs": [
    {
     "data": {
      "text/plain": [
       "V1     0\n",
       "V2     0\n",
       "V3     0\n",
       "V4     0\n",
       "V5     0\n",
       "V6     0\n",
       "V7     0\n",
       "V8     0\n",
       "V9     0\n",
       "V10    0\n",
       "V11    0\n",
       "V12    0\n",
       "V13    0\n",
       "V14    0\n",
       "V15    0\n",
       "V16    0\n",
       "V17    0\n",
       "V18    0\n",
       "V19    0\n",
       "V20    0\n",
       "dtype: int64"
      ]
     },
     "execution_count": 7,
     "metadata": {},
     "output_type": "execute_result"
    }
   ],
   "source": [
    "CB.isna().sum()"
   ]
  },
  {
   "cell_type": "markdown",
   "metadata": {},
   "source": [
    "In none of the data there are nans, hence there is no need to consider dealing with nans in this data preprocessing stage. Had there\n",
    "been any nans, there are multiple approaches available, starting from altogether excluding the whole columns from the analysis in case\n",
    "there is some threshold (say 10%) of nans in that column, for continuous data nans can be imputed with mean, median, mode, or analysied using Weight of evidence, \n",
    "and for categorical data, one could proceed using  weight of evidence for Nans. Another approach is dropping all rows with missing data"
   ]
  },
  {
   "cell_type": "markdown",
   "metadata": {},
   "source": [
    "check whether there are columns that include only one or zero distinct values - then exclude that from analysis, \n",
    "as it brings no value at all"
   ]
  },
  {
   "cell_type": "code",
   "execution_count": 8,
   "metadata": {},
   "outputs": [],
   "source": [
    "def exclude_data_few_unique_values(dataset):\n",
    "    \"\"\"drops columns that have either 0 distinct values (NANS) or only 1 distinct value\"\"\"\n",
    "    col_to_drop = []\n",
    "\n",
    "    for column in dataset.columns:\n",
    "        if dataset[column].nunique() == 1 or dataset[column].nunique() == 0:\n",
    "            col_to_drop.append(column)\n",
    "\n",
    "    for column in col_to_drop:\n",
    "        dataset = dataset.drop(columns=column)\n",
    "\n",
    "    return dataset"
   ]
  },
  {
   "cell_type": "code",
   "execution_count": 9,
   "metadata": {},
   "outputs": [],
   "source": [
    "pilot = exclude_data_few_unique_values(pilot)"
   ]
  },
  {
   "cell_type": "code",
   "execution_count": 10,
   "metadata": {},
   "outputs": [
    {
     "data": {
      "text/plain": [
       "V1           float64\n",
       "V2            object\n",
       "V3           float64\n",
       "V4           float64\n",
       "V5           float64\n",
       "V6           float64\n",
       "V7           float64\n",
       "V8           float64\n",
       "V9           float64\n",
       "V10          float64\n",
       "V11            int64\n",
       "V12          float64\n",
       "V13          float64\n",
       "V14          float64\n",
       "V15            int64\n",
       "V16          float64\n",
       "V17          float64\n",
       "V18            int64\n",
       "V19           object\n",
       "V20          float64\n",
       "treatment      int64\n",
       "purchase       int64\n",
       "dtype: object"
      ]
     },
     "execution_count": 10,
     "metadata": {},
     "output_type": "execute_result"
    }
   ],
   "source": [
    "# look into datatypes of columns\n",
    "pilot.dtypes"
   ]
  },
  {
   "cell_type": "code",
   "execution_count": 11,
   "metadata": {},
   "outputs": [],
   "source": [
    "# check how many unique values there are basing on dtypes"
   ]
  },
  {
   "cell_type": "code",
   "execution_count": 12,
   "metadata": {},
   "outputs": [
    {
     "data": {
      "text/plain": [
       "V1            690\n",
       "V3            101\n",
       "V4            101\n",
       "V5           4236\n",
       "V6            660\n",
       "V7           1756\n",
       "V8            101\n",
       "V9            885\n",
       "V10          1356\n",
       "V11            29\n",
       "V12          4566\n",
       "V13           101\n",
       "V14          1597\n",
       "V15            21\n",
       "V16           101\n",
       "V17           784\n",
       "V18             2\n",
       "V20          2287\n",
       "treatment       2\n",
       "purchase        2\n",
       "dtype: int64"
      ]
     },
     "execution_count": 12,
     "metadata": {},
     "output_type": "execute_result"
    }
   ],
   "source": [
    "table_numerical = pilot[pilot.columns[[(pilot.dtypes.values == 'int64')[i] or (pilot.dtypes.values == 'float64')[i] for i in\n",
    " range(len(pilot.dtypes))]]]\n",
    "table_numerical.nunique()"
   ]
  },
  {
   "cell_type": "code",
   "execution_count": 13,
   "metadata": {},
   "outputs": [
    {
     "data": {
      "text/plain": [
       "array([0, 1], dtype=int64)"
      ]
     },
     "execution_count": 13,
     "metadata": {},
     "output_type": "execute_result"
    }
   ],
   "source": [
    "pilot.V18.unique()"
   ]
  },
  {
   "cell_type": "code",
   "execution_count": 14,
   "metadata": {},
   "outputs": [
    {
     "data": {
      "text/plain": [
       "0    4859\n",
       "1     141\n",
       "Name: V18, dtype: int64"
      ]
     },
     "execution_count": 14,
     "metadata": {},
     "output_type": "execute_result"
    }
   ],
   "source": [
    "pilot.V18.value_counts()"
   ]
  },
  {
   "cell_type": "markdown",
   "metadata": {},
   "source": [
    "After a closer inspection of the column of data having only two distinct values, I decided to consider the columns V18 as categorical"
   ]
  },
  {
   "cell_type": "code",
   "execution_count": 15,
   "metadata": {},
   "outputs": [
    {
     "data": {
      "text/plain": [
       "V1     float64\n",
       "V2      object\n",
       "V3     float64\n",
       "V4     float64\n",
       "V5     float64\n",
       "V6     float64\n",
       "V7     float64\n",
       "V8     float64\n",
       "V9     float64\n",
       "V10    float64\n",
       "V11      int64\n",
       "V12    float64\n",
       "V13    float64\n",
       "V14    float64\n",
       "V15      int64\n",
       "V16    float64\n",
       "V17    float64\n",
       "V18      int64\n",
       "V19     object\n",
       "V20    float64\n",
       "dtype: object"
      ]
     },
     "execution_count": 15,
     "metadata": {},
     "output_type": "execute_result"
    }
   ],
   "source": [
    "# taking a look into data on whic predicitons need to be made\n",
    "CB.dtypes"
   ]
  },
  {
   "cell_type": "code",
   "execution_count": 16,
   "metadata": {},
   "outputs": [],
   "source": [
    "# looks the same as in the training (pilot) dataset. Now lets look at number of unique values for categorical variables"
   ]
  },
  {
   "cell_type": "code",
   "execution_count": 17,
   "metadata": {},
   "outputs": [
    {
     "data": {
      "text/plain": [
       "2"
      ]
     },
     "execution_count": 17,
     "metadata": {},
     "output_type": "execute_result"
    }
   ],
   "source": [
    "pilot.V2.nunique()"
   ]
  },
  {
   "cell_type": "code",
   "execution_count": 18,
   "metadata": {},
   "outputs": [
    {
     "data": {
      "text/plain": [
       "2"
      ]
     },
     "execution_count": 18,
     "metadata": {},
     "output_type": "execute_result"
    }
   ],
   "source": [
    "CB.V2.nunique()"
   ]
  },
  {
   "cell_type": "code",
   "execution_count": 19,
   "metadata": {},
   "outputs": [
    {
     "data": {
      "text/plain": [
       "18"
      ]
     },
     "execution_count": 19,
     "metadata": {},
     "output_type": "execute_result"
    }
   ],
   "source": [
    "pilot.V19.nunique()"
   ]
  },
  {
   "cell_type": "code",
   "execution_count": 20,
   "metadata": {},
   "outputs": [
    {
     "data": {
      "text/plain": [
       "24"
      ]
     },
     "execution_count": 20,
     "metadata": {},
     "output_type": "execute_result"
    }
   ],
   "source": [
    "CB.V19.nunique()"
   ]
  },
  {
   "cell_type": "code",
   "execution_count": 21,
   "metadata": {},
   "outputs": [
    {
     "data": {
      "text/plain": [
       "A    1799\n",
       "B    1141\n",
       "C     728\n",
       "D     465\n",
       "E     293\n",
       "F     208\n",
       "G     120\n",
       "H      91\n",
       "I      55\n",
       "J      37\n",
       "K      17\n",
       "L      16\n",
       "M      10\n",
       "O       8\n",
       "N       7\n",
       "R       2\n",
       "P       2\n",
       "T       1\n",
       "Name: V19, dtype: int64"
      ]
     },
     "execution_count": 21,
     "metadata": {},
     "output_type": "execute_result"
    }
   ],
   "source": [
    "pilot.V19.value_counts()"
   ]
  },
  {
   "cell_type": "code",
   "execution_count": 22,
   "metadata": {},
   "outputs": [
    {
     "data": {
      "text/plain": [
       "A    33993\n",
       "B    21886\n",
       "C    13964\n",
       "D     8976\n",
       "E     5834\n",
       "F     3716\n",
       "G     2347\n",
       "H     1489\n",
       "I     1008\n",
       "J      621\n",
       "K      412\n",
       "L      266\n",
       "M      174\n",
       "N      111\n",
       "O       74\n",
       "P       45\n",
       "Q       32\n",
       "R       18\n",
       "S       15\n",
       "U        7\n",
       "T        7\n",
       "X        2\n",
       "V        2\n",
       "Z        1\n",
       "Name: V19, dtype: int64"
      ]
     },
     "execution_count": 22,
     "metadata": {},
     "output_type": "execute_result"
    }
   ],
   "source": [
    "CB.V19.value_counts()"
   ]
  },
  {
   "cell_type": "markdown",
   "metadata": {},
   "source": [
    "In column V19 the training and testing datasets differ significantly. With no explanation given as to how interpret changed number of classes, I will drop that column from analysis"
   ]
  },
  {
   "cell_type": "markdown",
   "metadata": {},
   "source": [
    "Considering the distribution of data for the training and testing dataset, if they do not resemble each other, there is no point in including the different columns, or if all the columns have significantly different distributions, the modelling exercise makes no sense and needs to be abounded. "
   ]
  },
  {
   "cell_type": "code",
   "execution_count": 23,
   "metadata": {},
   "outputs": [
    {
     "data": {
      "text/plain": [
       "<matplotlib.axes._subplots.AxesSubplot at 0x2775f523c88>"
      ]
     },
     "execution_count": 23,
     "metadata": {},
     "output_type": "execute_result"
    },
    {
     "data": {
      "image/png": "[encoded data removed]",
      "text/plain": [
       "<Figure size 432x288 with 1 Axes>"
      ]
     },
     "metadata": {
      "needs_background": "light"
     },
     "output_type": "display_data"
    }
   ],
   "source": [
    "pilot.V1.hist(bins=20)"
   ]
  },
  {
   "cell_type": "code",
   "execution_count": 24,
   "metadata": {},
   "outputs": [
    {
     "data": {
      "text/plain": [
       "<matplotlib.axes._subplots.AxesSubplot at 0x2775f523fc8>"
      ]
     },
     "execution_count": 24,
     "metadata": {},
     "output_type": "execute_result"
    },
    {
     "data": {
      "image/png": "[encoded data removed]",
      "text/plain": [
       "<Figure size 432x288 with 1 Axes>"
      ]
     },
     "metadata": {
      "needs_background": "light"
     },
     "output_type": "display_data"
    }
   ],
   "source": [
    "CB.V1.hist(bins=20)"
   ]
  },
  {
   "cell_type": "code",
   "execution_count": 25,
   "metadata": {},
   "outputs": [
    {
     "data": {
      "text/plain": [
       "<matplotlib.axes._subplots.AxesSubplot at 0x2775f488648>"
      ]
     },
     "execution_count": 25,
     "metadata": {},
     "output_type": "execute_result"
    },
    {
     "data": {
      "image/png": "[encoded data removed]",
      "text/plain": [
       "<Figure size 432x288 with 1 Axes>"
      ]
     },
     "metadata": {
      "needs_background": "light"
     },
     "output_type": "display_data"
    }
   ],
   "source": [
    "pilot.V2.hist(bins=20)"
   ]
  },
  {
   "cell_type": "code",
   "execution_count": 26,
   "metadata": {},
   "outputs": [
    {
     "data": {
      "text/plain": [
       "<matplotlib.axes._subplots.AxesSubplot at 0x2775f4b10c8>"
      ]
     },
     "execution_count": 26,
     "metadata": {},
     "output_type": "execute_result"
    },
    {
     "data": {
      "image/png": "[encoded data removed]",
      "text/plain": [
       "<Figure size 432x288 with 1 Axes>"
      ]
     },
     "metadata": {
      "needs_background": "light"
     },
     "output_type": "display_data"
    }
   ],
   "source": [
    "CB.V2.hist(bins=20)"
   ]
  },
  {
   "cell_type": "code",
   "execution_count": 27,
   "metadata": {},
   "outputs": [
    {
     "data": {
      "text/plain": [
       "<matplotlib.axes._subplots.AxesSubplot at 0x2775fa15448>"
      ]
     },
     "execution_count": 27,
     "metadata": {},
     "output_type": "execute_result"
    },
    {
     "data": {
      "image/png": "[encoded data removed]",
      "text/plain": [
       "<Figure size 432x288 with 1 Axes>"
      ]
     },
     "metadata": {
      "needs_background": "light"
     },
     "output_type": "display_data"
    }
   ],
   "source": [
    "pilot.V3.hist(bins=20)"
   ]
  },
  {
   "cell_type": "code",
   "execution_count": 28,
   "metadata": {},
   "outputs": [
    {
     "data": {
      "text/plain": [
       "<matplotlib.axes._subplots.AxesSubplot at 0x2775f922948>"
      ]
     },
     "execution_count": 28,
     "metadata": {},
     "output_type": "execute_result"
    },
    {
     "data": {
      "image/png": "[encoded data removed]",
      "text/plain": [
       "<Figure size 432x288 with 1 Axes>"
      ]
     },
     "metadata": {
      "needs_background": "light"
     },
     "output_type": "display_data"
    }
   ],
   "source": [
    "CB.V3.hist(bins=20)"
   ]
  },
  {
   "cell_type": "code",
   "execution_count": 29,
   "metadata": {},
   "outputs": [
    {
     "data": {
      "text/plain": [
       "<matplotlib.axes._subplots.AxesSubplot at 0x2775fb3af88>"
      ]
     },
     "execution_count": 29,
     "metadata": {},
     "output_type": "execute_result"
    },
    {
     "data": {
      "image/png": "[encoded data removed]",
      "text/plain": [
       "<Figure size 432x288 with 1 Axes>"
      ]
     },
     "metadata": {
      "needs_background": "light"
     },
     "output_type": "display_data"
    }
   ],
   "source": [
    "pilot.V4.hist(bins=20)"
   ]
  },
  {
   "cell_type": "code",
   "execution_count": 30,
   "metadata": {},
   "outputs": [
    {
     "data": {
      "text/plain": [
       "<matplotlib.axes._subplots.AxesSubplot at 0x2775fbde588>"
      ]
     },
     "execution_count": 30,
     "metadata": {},
     "output_type": "execute_result"
    },
    {
     "data": {
      "image/png": "[encoded data removed]",
      "text/plain": [
       "<Figure size 432x288 with 1 Axes>"
      ]
     },
     "metadata": {
      "needs_background": "light"
     },
     "output_type": "display_data"
    }
   ],
   "source": [
    "CB.V4.hist(bins=20)"
   ]
  },
  {
   "cell_type": "code",
   "execution_count": 31,
   "metadata": {},
   "outputs": [
    {
     "data": {
      "text/plain": [
       "<matplotlib.axes._subplots.AxesSubplot at 0x2775fc85908>"
      ]
     },
     "execution_count": 31,
     "metadata": {},
     "output_type": "execute_result"
    },
    {
     "data": {
      "image/png": "[encoded data removed]",
      "text/plain": [
       "<Figure size 432x288 with 1 Axes>"
      ]
     },
     "metadata": {
      "needs_background": "light"
     },
     "output_type": "display_data"
    }
   ],
   "source": [
    "pilot.V5.hist(bins=20)"
   ]
  },
  {
   "cell_type": "code",
   "execution_count": 32,
   "metadata": {},
   "outputs": [
    {
     "data": {
      "text/plain": [
       "<matplotlib.axes._subplots.AxesSubplot at 0x2775fd153c8>"
      ]
     },
     "execution_count": 32,
     "metadata": {},
     "output_type": "execute_result"
    },
    {
     "data": {
      "image/png": "[encoded data removed]",
      "text/plain": [
       "<Figure size 432x288 with 1 Axes>"
      ]
     },
     "metadata": {
      "needs_background": "light"
     },
     "output_type": "display_data"
    }
   ],
   "source": [
    "CB.V5.hist(bins=20)"
   ]
  },
  {
   "cell_type": "code",
   "execution_count": 33,
   "metadata": {},
   "outputs": [
    {
     "data": {
      "text/plain": [
       "<matplotlib.axes._subplots.AxesSubplot at 0x2775fe2f288>"
      ]
     },
     "execution_count": 33,
     "metadata": {},
     "output_type": "execute_result"
    },
    {
     "data": {
      "image/png": "[encoded data removed]",
      "text/plain": [
       "<Figure size 432x288 with 1 Axes>"
      ]
     },
     "metadata": {
      "needs_background": "light"
     },
     "output_type": "display_data"
    }
   ],
   "source": [
    "pilot.V6.hist(bins=20)"
   ]
  },
  {
   "cell_type": "code",
   "execution_count": 34,
   "metadata": {},
   "outputs": [
    {
     "data": {
      "text/plain": [
       "<matplotlib.axes._subplots.AxesSubplot at 0x2775fe5ba08>"
      ]
     },
     "execution_count": 34,
     "metadata": {},
     "output_type": "execute_result"
    },
    {
     "data": {
      "image/png": "[encoded data removed]",
      "text/plain": [
       "<Figure size 432x288 with 1 Axes>"
      ]
     },
     "metadata": {
      "needs_background": "light"
     },
     "output_type": "display_data"
    }
   ],
   "source": [
    "CB.V6.hist(bins=20)"
   ]
  },
  {
   "cell_type": "code",
   "execution_count": 35,
   "metadata": {},
   "outputs": [
    {
     "data": {
      "text/plain": [
       "<matplotlib.axes._subplots.AxesSubplot at 0x2775ff18388>"
      ]
     },
     "execution_count": 35,
     "metadata": {},
     "output_type": "execute_result"
    },
    {
     "data": {
      "image/png": "[encoded data removed]",
      "text/plain": [
       "<Figure size 432x288 with 1 Axes>"
      ]
     },
     "metadata": {
      "needs_background": "light"
     },
     "output_type": "display_data"
    }
   ],
   "source": [
    "pilot.V7.hist(bins=20)"
   ]
  },
  {
   "cell_type": "code",
   "execution_count": 36,
   "metadata": {},
   "outputs": [
    {
     "data": {
      "text/plain": [
       "<matplotlib.axes._subplots.AxesSubplot at 0x2775ffa3e88>"
      ]
     },
     "execution_count": 36,
     "metadata": {},
     "output_type": "execute_result"
    },
    {
     "data": {
      "image/png": "[encoded data removed]",
      "text/plain": [
       "<Figure size 432x288 with 1 Axes>"
      ]
     },
     "metadata": {
      "needs_background": "light"
     },
     "output_type": "display_data"
    }
   ],
   "source": [
    "CB.V7.hist(bins=20)"
   ]
  },
  {
   "cell_type": "code",
   "execution_count": 37,
   "metadata": {},
   "outputs": [
    {
     "data": {
      "text/plain": [
       "<matplotlib.axes._subplots.AxesSubplot at 0x27760b35f08>"
      ]
     },
     "execution_count": 37,
     "metadata": {},
     "output_type": "execute_result"
    },
    {
     "data": {
      "image/png": "[encoded data removed]",
      "text/plain": [
       "<Figure size 432x288 with 1 Axes>"
      ]
     },
     "metadata": {
      "needs_background": "light"
     },
     "output_type": "display_data"
    }
   ],
   "source": [
    "pilot.V8.hist(bins=20)"
   ]
  },
  {
   "cell_type": "code",
   "execution_count": 38,
   "metadata": {},
   "outputs": [
    {
     "data": {
      "text/plain": [
       "<matplotlib.axes._subplots.AxesSubplot at 0x27760bd2bc8>"
      ]
     },
     "execution_count": 38,
     "metadata": {},
     "output_type": "execute_result"
    },
    {
     "data": {
      "image/png": "[encoded data removed]",
      "text/plain": [
       "<Figure size 432x288 with 1 Axes>"
      ]
     },
     "metadata": {
      "needs_background": "light"
     },
     "output_type": "display_data"
    }
   ],
   "source": [
    "CB.V8.hist(bins=20)"
   ]
  },
  {
   "cell_type": "code",
   "execution_count": 39,
   "metadata": {},
   "outputs": [
    {
     "data": {
      "text/plain": [
       "<matplotlib.axes._subplots.AxesSubplot at 0x27760c8e708>"
      ]
     },
     "execution_count": 39,
     "metadata": {},
     "output_type": "execute_result"
    },
    {
     "data": {
      "image/png": "[encoded data removed]",
      "text/plain": [
       "<Figure size 432x288 with 1 Axes>"
      ]
     },
     "metadata": {
      "needs_background": "light"
     },
     "output_type": "display_data"
    }
   ],
   "source": [
    "pilot.V9.hist(bins=20)"
   ]
  },
  {
   "cell_type": "code",
   "execution_count": 40,
   "metadata": {},
   "outputs": [
    {
     "data": {
      "text/plain": [
       "<matplotlib.axes._subplots.AxesSubplot at 0x27760d2a148>"
      ]
     },
     "execution_count": 40,
     "metadata": {},
     "output_type": "execute_result"
    },
    {
     "data": {
      "image/png": "[encoded data removed]",
      "text/plain": [
       "<Figure size 432x288 with 1 Axes>"
      ]
     },
     "metadata": {
      "needs_background": "light"
     },
     "output_type": "display_data"
    }
   ],
   "source": [
    "CB.V9.hist(bins=20)"
   ]
  },
  {
   "cell_type": "code",
   "execution_count": 41,
   "metadata": {},
   "outputs": [
    {
     "data": {
      "text/plain": [
       "<matplotlib.axes._subplots.AxesSubplot at 0x27760df8648>"
      ]
     },
     "execution_count": 41,
     "metadata": {},
     "output_type": "execute_result"
    },
    {
     "data": {
      "image/png": "[encoded data removed]",
      "text/plain": [
       "<Figure size 432x288 with 1 Axes>"
      ]
     },
     "metadata": {
      "needs_background": "light"
     },
     "output_type": "display_data"
    }
   ],
   "source": [
    "pilot.V10.hist(bins=20)"
   ]
  },
  {
   "cell_type": "code",
   "execution_count": 42,
   "metadata": {},
   "outputs": [
    {
     "data": {
      "text/plain": [
       "<matplotlib.axes._subplots.AxesSubplot at 0x27760e632c8>"
      ]
     },
     "execution_count": 42,
     "metadata": {},
     "output_type": "execute_result"
    },
    {
     "data": {
      "image/png": "[encoded data removed]",
      "text/plain": [
       "<Figure size 432x288 with 1 Axes>"
      ]
     },
     "metadata": {
      "needs_background": "light"
     },
     "output_type": "display_data"
    }
   ],
   "source": [
    "CB.V10.hist(bins=20)"
   ]
  },
  {
   "cell_type": "code",
   "execution_count": 43,
   "metadata": {},
   "outputs": [
    {
     "data": {
      "text/plain": [
       "<matplotlib.axes._subplots.AxesSubplot at 0x27760f31b88>"
      ]
     },
     "execution_count": 43,
     "metadata": {},
     "output_type": "execute_result"
    },
    {
     "data": {
      "image/png": "[encoded data removed]",
      "text/plain": [
       "<Figure size 432x288 with 1 Axes>"
      ]
     },
     "metadata": {
      "needs_background": "light"
     },
     "output_type": "display_data"
    }
   ],
   "source": [
    "pilot.V11.hist(bins=20)"
   ]
  },
  {
   "cell_type": "code",
   "execution_count": 44,
   "metadata": {},
   "outputs": [
    {
     "data": {
      "text/plain": [
       "<matplotlib.axes._subplots.AxesSubplot at 0x27760f8c908>"
      ]
     },
     "execution_count": 44,
     "metadata": {},
     "output_type": "execute_result"
    },
    {
     "data": {
      "image/png": "[encoded data removed]",
      "text/plain": [
       "<Figure size 432x288 with 1 Axes>"
      ]
     },
     "metadata": {
      "needs_background": "light"
     },
     "output_type": "display_data"
    }
   ],
   "source": [
    "CB.V11.hist(bins=20)"
   ]
  },
  {
   "cell_type": "code",
   "execution_count": 45,
   "metadata": {},
   "outputs": [
    {
     "data": {
      "text/plain": [
       "<matplotlib.axes._subplots.AxesSubplot at 0x277610df0c8>"
      ]
     },
     "execution_count": 45,
     "metadata": {},
     "output_type": "execute_result"
    },
    {
     "data": {
      "image/png": "[encoded data removed]",
      "text/plain": [
       "<Figure size 432x288 with 1 Axes>"
      ]
     },
     "metadata": {
      "needs_background": "light"
     },
     "output_type": "display_data"
    }
   ],
   "source": [
    "pilot.V12.hist(bins=20)"
   ]
  },
  {
   "cell_type": "code",
   "execution_count": 46,
   "metadata": {},
   "outputs": [
    {
     "data": {
      "text/plain": [
       "<matplotlib.axes._subplots.AxesSubplot at 0x27761108088>"
      ]
     },
     "execution_count": 46,
     "metadata": {},
     "output_type": "execute_result"
    },
    {
     "data": {
      "image/png": "[encoded data removed]",
      "text/plain": [
       "<Figure size 432x288 with 1 Axes>"
      ]
     },
     "metadata": {
      "needs_background": "light"
     },
     "output_type": "display_data"
    }
   ],
   "source": [
    "CB.V12.hist(bins=20)"
   ]
  },
  {
   "cell_type": "code",
   "execution_count": 47,
   "metadata": {},
   "outputs": [
    {
     "data": {
      "text/plain": [
       "<matplotlib.axes._subplots.AxesSubplot at 0x277611a0d08>"
      ]
     },
     "execution_count": 47,
     "metadata": {},
     "output_type": "execute_result"
    },
    {
     "data": {
      "image/png": "[encoded data removed]",
      "text/plain": [
       "<Figure size 432x288 with 1 Axes>"
      ]
     },
     "metadata": {
      "needs_background": "light"
     },
     "output_type": "display_data"
    }
   ],
   "source": [
    "pilot.V13.hist(bins=20)"
   ]
  },
  {
   "cell_type": "code",
   "execution_count": 48,
   "metadata": {},
   "outputs": [
    {
     "data": {
      "text/plain": [
       "<matplotlib.axes._subplots.AxesSubplot at 0x27761222b88>"
      ]
     },
     "execution_count": 48,
     "metadata": {},
     "output_type": "execute_result"
    },
    {
     "data": {
      "image/png": "[encoded data removed]",
      "text/plain": [
       "<Figure size 432x288 with 1 Axes>"
      ]
     },
     "metadata": {
      "needs_background": "light"
     },
     "output_type": "display_data"
    }
   ],
   "source": [
    "CB.V13.hist(bins=20)"
   ]
  },
  {
   "cell_type": "code",
   "execution_count": 49,
   "metadata": {},
   "outputs": [
    {
     "data": {
      "text/plain": [
       "<matplotlib.axes._subplots.AxesSubplot at 0x277612ffd08>"
      ]
     },
     "execution_count": 49,
     "metadata": {},
     "output_type": "execute_result"
    },
    {
     "data": {
      "image/png": "[encoded data removed]",
      "text/plain": [
       "<Figure size 432x288 with 1 Axes>"
      ]
     },
     "metadata": {
      "needs_background": "light"
     },
     "output_type": "display_data"
    }
   ],
   "source": [
    "pilot.V14.hist(bins=20)"
   ]
  },
  {
   "cell_type": "code",
   "execution_count": 50,
   "metadata": {},
   "outputs": [
    {
     "data": {
      "text/plain": [
       "<matplotlib.axes._subplots.AxesSubplot at 0x277613782c8>"
      ]
     },
     "execution_count": 50,
     "metadata": {},
     "output_type": "execute_result"
    },
    {
     "data": {
      "image/png": "[encoded data removed]",
      "text/plain": [
       "<Figure size 432x288 with 1 Axes>"
      ]
     },
     "metadata": {
      "needs_background": "light"
     },
     "output_type": "display_data"
    }
   ],
   "source": [
    "CB.V14.hist(bins=20)"
   ]
  },
  {
   "cell_type": "code",
   "execution_count": 51,
   "metadata": {},
   "outputs": [
    {
     "data": {
      "text/plain": [
       "<matplotlib.axes._subplots.AxesSubplot at 0x27761439748>"
      ]
     },
     "execution_count": 51,
     "metadata": {},
     "output_type": "execute_result"
    },
    {
     "data": {
      "image/png": "[encoded data removed]",
      "text/plain": [
       "<Figure size 432x288 with 1 Axes>"
      ]
     },
     "metadata": {
      "needs_background": "light"
     },
     "output_type": "display_data"
    }
   ],
   "source": [
    "pilot.V15.hist(bins=20)"
   ]
  },
  {
   "cell_type": "code",
   "execution_count": 52,
   "metadata": {},
   "outputs": [
    {
     "data": {
      "text/plain": [
       "<matplotlib.axes._subplots.AxesSubplot at 0x27761552708>"
      ]
     },
     "execution_count": 52,
     "metadata": {},
     "output_type": "execute_result"
    },
    {
     "data": {
      "image/png": "[encoded data removed]",
      "text/plain": [
       "<Figure size 432x288 with 1 Axes>"
      ]
     },
     "metadata": {
      "needs_background": "light"
     },
     "output_type": "display_data"
    }
   ],
   "source": [
    "CB.V15.hist(bins=20)"
   ]
  },
  {
   "cell_type": "code",
   "execution_count": 53,
   "metadata": {},
   "outputs": [
    {
     "data": {
      "text/plain": [
       "<matplotlib.axes._subplots.AxesSubplot at 0x2776258ec08>"
      ]
     },
     "execution_count": 53,
     "metadata": {},
     "output_type": "execute_result"
    },
    {
     "data": {
      "image/png": "[encoded data removed]",
      "text/plain": [
       "<Figure size 432x288 with 1 Axes>"
      ]
     },
     "metadata": {
      "needs_background": "light"
     },
     "output_type": "display_data"
    }
   ],
   "source": [
    "pilot.V16.hist(bins=20)"
   ]
  },
  {
   "cell_type": "code",
   "execution_count": 54,
   "metadata": {},
   "outputs": [
    {
     "data": {
      "text/plain": [
       "<matplotlib.axes._subplots.AxesSubplot at 0x277625c1dc8>"
      ]
     },
     "execution_count": 54,
     "metadata": {},
     "output_type": "execute_result"
    },
    {
     "data": {
      "image/png": "[encoded data removed]",
      "text/plain": [
       "<Figure size 432x288 with 1 Axes>"
      ]
     },
     "metadata": {
      "needs_background": "light"
     },
     "output_type": "display_data"
    }
   ],
   "source": [
    "CB.V16.hist(bins=20)"
   ]
  },
  {
   "cell_type": "code",
   "execution_count": 55,
   "metadata": {},
   "outputs": [
    {
     "data": {
      "text/plain": [
       "<matplotlib.axes._subplots.AxesSubplot at 0x277625aa7c8>"
      ]
     },
     "execution_count": 55,
     "metadata": {},
     "output_type": "execute_result"
    },
    {
     "data": {
      "image/png": "[encoded data removed]",
      "text/plain": [
       "<Figure size 432x288 with 1 Axes>"
      ]
     },
     "metadata": {
      "needs_background": "light"
     },
     "output_type": "display_data"
    }
   ],
   "source": [
    "pilot.V17.hist(bins=20)"
   ]
  },
  {
   "cell_type": "code",
   "execution_count": 56,
   "metadata": {},
   "outputs": [
    {
     "data": {
      "text/plain": [
       "<matplotlib.axes._subplots.AxesSubplot at 0x277636ee3c8>"
      ]
     },
     "execution_count": 56,
     "metadata": {},
     "output_type": "execute_result"
    },
    {
     "data": {
      "image/png": "[encoded data removed]",
      "text/plain": [
       "<Figure size 432x288 with 1 Axes>"
      ]
     },
     "metadata": {
      "needs_background": "light"
     },
     "output_type": "display_data"
    }
   ],
   "source": [
    "CB.V17.hist(bins=20)"
   ]
  },
  {
   "cell_type": "code",
   "execution_count": 57,
   "metadata": {},
   "outputs": [
    {
     "data": {
      "text/plain": [
       "<matplotlib.axes._subplots.AxesSubplot at 0x2776258e488>"
      ]
     },
     "execution_count": 57,
     "metadata": {},
     "output_type": "execute_result"
    },
    {
     "data": {
      "image/png": "[encoded data removed]",
      "text/plain": [
       "<Figure size 432x288 with 1 Axes>"
      ]
     },
     "metadata": {
      "needs_background": "light"
     },
     "output_type": "display_data"
    }
   ],
   "source": [
    "pilot.V18.hist(bins=20)"
   ]
  },
  {
   "cell_type": "code",
   "execution_count": 58,
   "metadata": {},
   "outputs": [
    {
     "data": {
      "text/plain": [
       "<matplotlib.axes._subplots.AxesSubplot at 0x277638c1f88>"
      ]
     },
     "execution_count": 58,
     "metadata": {},
     "output_type": "execute_result"
    },
    {
     "data": {
      "image/png": "[encoded data removed]",
      "text/plain": [
       "<Figure size 432x288 with 1 Axes>"
      ]
     },
     "metadata": {
      "needs_background": "light"
     },
     "output_type": "display_data"
    }
   ],
   "source": [
    "CB.V18.hist(bins=20)"
   ]
  },
  {
   "cell_type": "code",
   "execution_count": 59,
   "metadata": {},
   "outputs": [
    {
     "data": {
      "text/plain": [
       "<matplotlib.axes._subplots.AxesSubplot at 0x277639552c8>"
      ]
     },
     "execution_count": 59,
     "metadata": {},
     "output_type": "execute_result"
    },
    {
     "data": {
      "image/png": "[encoded data removed]",
      "text/plain": [
       "<Figure size 432x288 with 1 Axes>"
      ]
     },
     "metadata": {
      "needs_background": "light"
     },
     "output_type": "display_data"
    }
   ],
   "source": [
    "pilot.V20.hist(bins=20)"
   ]
  },
  {
   "cell_type": "code",
   "execution_count": 60,
   "metadata": {},
   "outputs": [
    {
     "data": {
      "text/plain": [
       "<matplotlib.axes._subplots.AxesSubplot at 0x277639a0688>"
      ]
     },
     "execution_count": 60,
     "metadata": {},
     "output_type": "execute_result"
    },
    {
     "data": {
      "image/png": "[encoded data removed]",
      "text/plain": [
       "<Figure size 432x288 with 1 Axes>"
      ]
     },
     "metadata": {
      "needs_background": "light"
     },
     "output_type": "display_data"
    }
   ],
   "source": [
    "CB.V20.hist(bins=20)"
   ]
  },
  {
   "cell_type": "markdown",
   "metadata": {},
   "source": [
    "For the purpose of the analysis, I consider presented distributions to be alike for both training and test data sets"
   ]
  },
  {
   "cell_type": "markdown",
   "metadata": {},
   "source": [
    "I decided to split the dataset for numerical and categorical for further analysis"
   ]
  },
  {
   "cell_type": "code",
   "execution_count": 61,
   "metadata": {},
   "outputs": [],
   "source": [
    "def split_dataset(table):\n",
    "    # divide the table into one containing only numerical data and the other containing only categorical data, \n",
    "#     including comments above\n",
    "    table_categorical = table[table.columns[table.dtypes.values == 'O']]\n",
    "    table_numerical = table[table.columns[\n",
    "        [(table.dtypes.values == 'int64')[i] or (table.dtypes.values == 'float64')[i] for i in\n",
    "         range(len(table.dtypes))]]]\n",
    "    table_categorical = pd.concat([table_categorical, table.V18], axis=1)\n",
    "    table_categorical = table_categorical.drop(columns=['V19'])\n",
    "#     table_numerical = pd.concat([table_numerical, table['V18']], axis=1)\n",
    "    table_numerical = table_numerical.drop(columns=['purchase', 'treatment', 'V18'])\n",
    "    return table_numerical, table_categorical"
   ]
  },
  {
   "cell_type": "code",
   "execution_count": 62,
   "metadata": {},
   "outputs": [],
   "source": [
    "pilot_numerical, pilot_categorical = split_dataset(pilot)"
   ]
  },
  {
   "cell_type": "code",
   "execution_count": 63,
   "metadata": {},
   "outputs": [
    {
     "data": {
      "text/plain": [
       "(5000, 17)"
      ]
     },
     "execution_count": 63,
     "metadata": {},
     "output_type": "execute_result"
    }
   ],
   "source": [
    "pilot_numerical.shape"
   ]
  },
  {
   "cell_type": "code",
   "execution_count": 64,
   "metadata": {},
   "outputs": [
    {
     "data": {
      "text/plain": [
       "(5000, 2)"
      ]
     },
     "execution_count": 64,
     "metadata": {},
     "output_type": "execute_result"
    }
   ],
   "source": [
    "pilot_categorical.shape"
   ]
  },
  {
   "cell_type": "markdown",
   "metadata": {},
   "source": [
    "As a method of dealing with categorical data, I will use one hot encoding, remembering about a so called \"dummy variable trap\" - to avoid making n columns out of n categorical variables - instead one of the columns should be dropped"
   ]
  },
  {
   "cell_type": "code",
   "execution_count": 65,
   "metadata": {},
   "outputs": [],
   "source": [
    "def dummmies(pilot_categorical):\n",
    "    \"\"\"takes in a table with only categorical variables, and converts them to dummies, excluding one of the columns to\n",
    "     avoid dummy-variable-trap\"\"\"\n",
    "    for column in pilot_categorical.columns:\n",
    "        new_columns = pd.get_dummies(pilot_categorical[column])\n",
    "        new_columns = new_columns.drop(columns=[new_columns.columns.to_list()[-1]])  # drop the last column\n",
    "        pilot_categorical = pd.concat([pilot_categorical, new_columns], axis=1)\n",
    "        pilot_categorical = pilot_categorical.drop(columns=[column])\n",
    "    return pilot_categorical"
   ]
  },
  {
   "cell_type": "code",
   "execution_count": 66,
   "metadata": {},
   "outputs": [],
   "source": [
    "pilot_categorical = dummmies(pilot_categorical)"
   ]
  },
  {
   "cell_type": "code",
   "execution_count": 67,
   "metadata": {},
   "outputs": [
    {
     "data": {
      "text/plain": [
       "(5000, 2)"
      ]
     },
     "execution_count": 67,
     "metadata": {},
     "output_type": "execute_result"
    }
   ],
   "source": [
    "pilot_categorical.shape"
   ]
  },
  {
   "cell_type": "code",
   "execution_count": 68,
   "metadata": {},
   "outputs": [],
   "source": [
    "pilot_categorical.columns = ['V2', 'V18']"
   ]
  },
  {
   "cell_type": "code",
   "execution_count": 69,
   "metadata": {},
   "outputs": [
    {
     "data": {
      "text/html": [
       "<div>\n",
       "<style scoped>\n",
       "    .dataframe tbody tr th:only-of-type {\n",
       "        vertical-align: middle;\n",
       "    }\n",
       "\n",
       "    .dataframe tbody tr th {\n",
       "        vertical-align: top;\n",
       "    }\n",
       "\n",
       "    .dataframe thead th {\n",
       "        text-align: right;\n",
       "    }\n",
       "</style>\n",
       "<table border=\"1\" class=\"dataframe\">\n",
       "  <thead>\n",
       "    <tr style=\"text-align: right;\">\n",
       "      <th></th>\n",
       "      <th>V2</th>\n",
       "      <th>V18</th>\n",
       "    </tr>\n",
       "  </thead>\n",
       "  <tbody>\n",
       "    <tr>\n",
       "      <td>0</td>\n",
       "      <td>1</td>\n",
       "      <td>1</td>\n",
       "    </tr>\n",
       "    <tr>\n",
       "      <td>1</td>\n",
       "      <td>1</td>\n",
       "      <td>1</td>\n",
       "    </tr>\n",
       "    <tr>\n",
       "      <td>2</td>\n",
       "      <td>1</td>\n",
       "      <td>1</td>\n",
       "    </tr>\n",
       "    <tr>\n",
       "      <td>3</td>\n",
       "      <td>1</td>\n",
       "      <td>1</td>\n",
       "    </tr>\n",
       "    <tr>\n",
       "      <td>4</td>\n",
       "      <td>1</td>\n",
       "      <td>1</td>\n",
       "    </tr>\n",
       "  </tbody>\n",
       "</table>\n",
       "</div>"
      ],
      "text/plain": [
       "   V2  V18\n",
       "0   1    1\n",
       "1   1    1\n",
       "2   1    1\n",
       "3   1    1\n",
       "4   1    1"
      ]
     },
     "execution_count": 69,
     "metadata": {},
     "output_type": "execute_result"
    }
   ],
   "source": [
    "pilot_categorical.head()"
   ]
  },
  {
   "cell_type": "markdown",
   "metadata": {},
   "source": [
    "It is a mistake to include in the analysis columns that are \"overly\" correlated with each other"
   ]
  },
  {
   "cell_type": "code",
   "execution_count": 70,
   "metadata": {},
   "outputs": [
    {
     "data": {
      "text/plain": [
       "<matplotlib.axes._subplots.AxesSubplot at 0x27763ac0b08>"
      ]
     },
     "execution_count": 70,
     "metadata": {},
     "output_type": "execute_result"
    },
    {
     "data": {
      "image/png": "[encoded data removed]",
      "text/plain": [
       "<Figure size 1152x1008 with 2 Axes>"
      ]
     },
     "metadata": {
      "needs_background": "light"
     },
     "output_type": "display_data"
    }
   ],
   "source": [
    "colormap = plt.cm.RdBu\n",
    "plt.figure(figsize=(16, 14))\n",
    "\n",
    "plt.title('Pearson Correlation of Features', y=1.05, size=15)\n",
    "sns.heatmap(pilot_numerical.astype(float).corr(), linewidths=0.1, vmax=1.0,\n",
    "            square=True, cmap=colormap, linecolor='white', annot=True)"
   ]
  },
  {
   "cell_type": "markdown",
   "metadata": {},
   "source": [
    "function for excluding overly correlated data"
   ]
  },
  {
   "cell_type": "code",
   "execution_count": 71,
   "metadata": {},
   "outputs": [],
   "source": [
    "def correlation(dataset, threshold=0.7):\n",
    "    # deals only with numeric data, float64 and int64\n",
    "\n",
    "    col_corr = set()  # Set of all the names of deleted columns\n",
    "    corr_matrix = dataset.corr()\n",
    "    for i in range(len(corr_matrix.columns)):\n",
    "        for j in range(i):\n",
    "            if (corr_matrix.iloc[i, j] >= threshold) and (corr_matrix.columns[j] not in col_corr):\n",
    "                colname = corr_matrix.columns[i]  # getting the name of column\n",
    "                col_corr.add(colname)\n",
    "                if colname in dataset.columns:\n",
    "                    del dataset[colname]  # deleting the column from the dataset\n",
    "\n",
    "    return dataset\n"
   ]
  },
  {
   "cell_type": "code",
   "execution_count": 72,
   "metadata": {},
   "outputs": [
    {
     "data": {
      "text/plain": [
       "(5000, 17)"
      ]
     },
     "execution_count": 72,
     "metadata": {},
     "output_type": "execute_result"
    }
   ],
   "source": [
    "pilot_numerical = correlation(pilot_numerical)\n",
    "pilot_numerical.shape"
   ]
  },
  {
   "cell_type": "markdown",
   "metadata": {},
   "source": [
    "Assuming an arbitrarily selected threshold of correlated data at the level of threshold = 0.7 I conclude that there are no values to delete"
   ]
  },
  {
   "cell_type": "markdown",
   "metadata": {},
   "source": [
    "There are 4 types of customers:"
   ]
  },
  {
   "cell_type": "markdown",
   "metadata": {},
   "source": [
    "| treatment | purchase   |\n",
    "|------|------|\n",
    "|   0  | 0|\n",
    "|   1  | 0|\n",
    "|   0  | 1|\n",
    "|   1  | 1|"
   ]
  },
  {
   "cell_type": "markdown",
   "metadata": {},
   "source": [
    "I assume that if a client was contacted, and a client made a purchase it is only because they were contacted. Moreover, I assume that if I contact customers who were not contacted, contacting them does increase their chance of making a purchase. I will avoid contacting customers who are contacted and yet make no purchase, as it is very likely that contacting that group of customers brings only loss to the company."
   ]
  },
  {
   "cell_type": "code",
   "execution_count": 73,
   "metadata": {},
   "outputs": [],
   "source": [
    "def make_labels(treatment, purchase):\n",
    "    labels = np.zeros(len(treatment))\n",
    "    for idx in range(len(treatment)):\n",
    "        if treatment[idx] == 0 and purchase[idx] == 0:\n",
    "            pass  # for visibility and completeness\n",
    "        if treatment[idx] == 1 and purchase[idx] == 0:\n",
    "            labels[idx] = 1\n",
    "        if treatment[idx] == 0 and purchase[idx] == 1:\n",
    "            labels[idx] = 2\n",
    "        if treatment[idx] == 1 and purchase[idx] == 1:\n",
    "            labels[idx] = 3\n",
    "    return labels\n"
   ]
  },
  {
   "cell_type": "code",
   "execution_count": 74,
   "metadata": {},
   "outputs": [
    {
     "data": {
      "text/plain": [
       "(5000, 4)"
      ]
     },
     "execution_count": 74,
     "metadata": {},
     "output_type": "execute_result"
    }
   ],
   "source": [
    "new_array = make_labels(pilot.treatment, pilot.purchase)\n",
    "labels = pd.get_dummies(new_array)\n",
    "labels.shape"
   ]
  },
  {
   "cell_type": "markdown",
   "metadata": {},
   "source": [
    "another step in data preprocessing is standardizing all data"
   ]
  },
  {
   "cell_type": "code",
   "execution_count": 75,
   "metadata": {},
   "outputs": [],
   "source": [
    "def standardize_data(table):\n",
    "    \"\"\"standardize test data the same as train data\"\"\"\n",
    "\n",
    "    scaler = preprocessing.StandardScaler().fit(table)\n",
    "    X_train_transformed = scaler.transform(table)\n",
    "\n",
    "    return X_train_transformed"
   ]
  },
  {
   "cell_type": "code",
   "execution_count": 76,
   "metadata": {},
   "outputs": [
    {
     "data": {
      "text/plain": [
       "(95000, 17)"
      ]
     },
     "execution_count": 76,
     "metadata": {},
     "output_type": "execute_result"
    }
   ],
   "source": [
    "def split_dataset_validacja(table):\n",
    "    # divide the table into one containing only numerical data and the other containing only categorical data\n",
    "    table_categorical = table[table.columns[\n",
    "        [(table.dtypes.values == 'int64')[i] or (table.dtypes.values == 'O')[i] for i in\n",
    "         range(len(table.dtypes))]]]\n",
    "    table_numerical = table[table.columns[table.dtypes.values == 'float64']]\n",
    "    table_numerical = pd.concat([table_numerical, table['V11'], table['V15']], axis=1)\n",
    "    table_categorical = table_categorical.drop(columns=['V11', 'V15', 'V19'])\n",
    "\n",
    "    return table_numerical, table_categorical\n",
    "\n",
    "# path_CB = 'D:/ERAZER/Downloads/CustomerBase.csv'\n",
    "CB = pd.read_csv(path_CB)\n",
    "CB = exclude_data_few_unique_values(CB)\n",
    "# split\n",
    "CB_numerical, CB_categorical = split_dataset_validacja(CB)\n",
    "# get dummies for categorical\n",
    "CB_categorical = dummmies(CB_categorical)\n",
    "# not to overly correlated data\n",
    "CB_numerical = correlation(CB_numerical)\n",
    "CB_numerical.shape"
   ]
  },
  {
   "cell_type": "code",
   "execution_count": 77,
   "metadata": {},
   "outputs": [
    {
     "data": {
      "text/plain": [
       "(95000, 2)"
      ]
     },
     "execution_count": 77,
     "metadata": {},
     "output_type": "execute_result"
    }
   ],
   "source": [
    "CB_categorical.shape"
   ]
  },
  {
   "cell_type": "code",
   "execution_count": 78,
   "metadata": {},
   "outputs": [],
   "source": [
    "from sklearn import preprocessing\n",
    "pilot_numerical = standardize_data(pilot_numerical) \n",
    "CB_numerical = standardize_data(CB_numerical) "
   ]
  },
  {
   "cell_type": "code",
   "execution_count": 79,
   "metadata": {},
   "outputs": [
    {
     "data": {
      "text/plain": [
       "(95000, 17)"
      ]
     },
     "execution_count": 79,
     "metadata": {},
     "output_type": "execute_result"
    }
   ],
   "source": [
    "CB_numerical.shape"
   ]
  },
  {
   "cell_type": "markdown",
   "metadata": {},
   "source": [
    "defining architecture to make an embedding of categorical data and the nconcatenate with continuous data, as described here https://datascience.stackexchange.com/questions/29634/how-to-combine-categorical-and-continuous-input-features-for-neural-network-trai\n",
    "Defining f1 metric, as a way to deal with imbalanced dataset, as presented below"
   ]
  },
  {
   "cell_type": "code",
   "execution_count": 80,
   "metadata": {},
   "outputs": [
    {
     "data": {
      "text/plain": [
       "0.0    3688\n",
       "1.0     895\n",
       "2.0     315\n",
       "3.0     102\n",
       "dtype: int64"
      ]
     },
     "execution_count": 80,
     "metadata": {},
     "output_type": "execute_result"
    }
   ],
   "source": [
    "labels.sum()"
   ]
  },
  {
   "cell_type": "code",
   "execution_count": 81,
   "metadata": {},
   "outputs": [],
   "source": [
    "import keras\n",
    "from keras.layers import Dense, Input, concatenate\n",
    "from keras.models import Model\n",
    "from keras.optimizers import Adam\n",
    "\n",
    "from keras import backend as K\n",
    "\n",
    "\n",
    "def recall_m(y_true, y_pred):\n",
    "        true_positives = K.sum(K.round(K.clip(y_true * y_pred, 0, 1)))\n",
    "        possible_positives = K.sum(K.round(K.clip(y_true, 0, 1)))\n",
    "        recall = true_positives / (possible_positives + K.epsilon())\n",
    "        return recall\n",
    "\n",
    "\n",
    "def precision_m(y_true, y_pred):\n",
    "        true_positives = K.sum(K.round(K.clip(y_true * y_pred, 0, 1)))\n",
    "        predicted_positives = K.sum(K.round(K.clip(y_pred, 0, 1)))\n",
    "        precision = true_positives / (predicted_positives + K.epsilon())\n",
    "        return precision\n",
    "\n",
    "\n",
    "def f1_m(y_true, y_pred):\n",
    "    precision = precision_m(y_true, y_pred)\n",
    "    recall = recall_m(y_true, y_pred)\n",
    "    return 2*((precision*recall)/(precision+recall+K.epsilon()))\n",
    "\n",
    "\n",
    "def model_keras():\n",
    "    input_categorical = Input(shape=(2,))\n",
    "    inputs_continuous = Input(shape=(17,))\n",
    "\n",
    "    # a layer instance is callable on a tensor, and returns a tensor\n",
    "    output_categorical = Dense(8, name='categorical_dense_1')(input_categorical)\n",
    "    output_categorical = keras.layers.ELU(alpha=1.0)(output_categorical)\n",
    "    output_categorical = Dense(4, name='categorical_dense_2')(output_categorical)\n",
    "    output_categorical = keras.layers.ELU(alpha=1.0)(output_categorical)\n",
    "\n",
    "    output_continuous = Dense(64, name='continuous_dense_1')(inputs_continuous)\n",
    "    output_continuous = keras.layers.ELU(alpha=1.0)(output_continuous)\n",
    "    output_continuous = Dense(32, name='continuous_dense_2')(output_continuous)\n",
    "    output_continuous = keras.layers.ELU(alpha=1.0)(output_continuous)\n",
    "\n",
    "    concatenated = concatenate([output_categorical, output_continuous])\n",
    "\n",
    "    concatenated = Dense(64)(concatenated)\n",
    "    concatenated = keras.layers.ELU(alpha=1.0)(concatenated)\n",
    "    concatenated = Dense(32)(concatenated)\n",
    "    concatenated = keras.layers.ELU(alpha=1.0)(concatenated)\n",
    "    concatenated = Dense(4, activation='softmax')(concatenated)\n",
    "\n",
    "    model = Model(inputs=[input_categorical, inputs_continuous], outputs=concatenated)\n",
    "    model.compile(optimizer=Adam(lr=0.01),\n",
    "                  loss='categorical_crossentropy',\n",
    "                  metrics=['accuracy', f1_m])\n",
    "    model.summary()\n",
    "    return model"
   ]
  },
  {
   "cell_type": "code",
   "execution_count": 82,
   "metadata": {},
   "outputs": [
    {
     "name": "stdout",
     "output_type": "stream",
     "text": [
      "Model: \"model_1\"\n",
      "__________________________________________________________________________________________________\n",
      "Layer (type)                    Output Shape         Param #     Connected to                     \n",
      "==================================================================================================\n",
      "input_1 (InputLayer)            (None, 2)            0                                            \n",
      "__________________________________________________________________________________________________\n",
      "input_2 (InputLayer)            (None, 17)           0                                            \n",
      "__________________________________________________________________________________________________\n",
      "categorical_dense_1 (Dense)     (None, 8)            24          input_1[0][0]                    \n",
      "__________________________________________________________________________________________________\n",
      "continuous_dense_1 (Dense)      (None, 64)           1152        input_2[0][0]                    \n",
      "__________________________________________________________________________________________________\n",
      "elu_1 (ELU)                     (None, 8)            0           categorical_dense_1[0][0]        \n",
      "__________________________________________________________________________________________________\n",
      "elu_3 (ELU)                     (None, 64)           0           continuous_dense_1[0][0]         \n",
      "__________________________________________________________________________________________________\n",
      "categorical_dense_2 (Dense)     (None, 4)            36          elu_1[0][0]                      \n",
      "__________________________________________________________________________________________________\n",
      "continuous_dense_2 (Dense)      (None, 32)           2080        elu_3[0][0]                      \n",
      "__________________________________________________________________________________________________\n",
      "elu_2 (ELU)                     (None, 4)            0           categorical_dense_2[0][0]        \n",
      "__________________________________________________________________________________________________\n",
      "elu_4 (ELU)                     (None, 32)           0           continuous_dense_2[0][0]         \n",
      "__________________________________________________________________________________________________\n",
      "concatenate_1 (Concatenate)     (None, 36)           0           elu_2[0][0]                      \n",
      "                                                                 elu_4[0][0]                      \n",
      "__________________________________________________________________________________________________\n",
      "dense_1 (Dense)                 (None, 64)           2368        concatenate_1[0][0]              \n",
      "__________________________________________________________________________________________________\n",
      "elu_5 (ELU)                     (None, 64)           0           dense_1[0][0]                    \n",
      "__________________________________________________________________________________________________\n",
      "dense_2 (Dense)                 (None, 32)           2080        elu_5[0][0]                      \n",
      "__________________________________________________________________________________________________\n",
      "elu_6 (ELU)                     (None, 32)           0           dense_2[0][0]                    \n",
      "__________________________________________________________________________________________________\n",
      "dense_3 (Dense)                 (None, 4)            132         elu_6[0][0]                      \n",
      "==================================================================================================\n",
      "Total params: 7,872\n",
      "Trainable params: 7,872\n",
      "Non-trainable params: 0\n",
      "__________________________________________________________________________________________________\n",
      "WARNING:tensorflow:From C:\\Users\\ERAZER\\Anaconda3\\lib\\site-packages\\keras\\backend\\tensorflow_backend.py:422: The name tf.global_variables is deprecated. Please use tf.compat.v1.global_variables instead.\n",
      "\n",
      "Train on 4500 samples, validate on 500 samples\n",
      "WARNING:tensorflow:From C:\\Users\\ERAZER\\Anaconda3\\lib\\site-packages\\keras\\callbacks\\tensorboard_v1.py:200: The name tf.summary.merge_all is deprecated. Please use tf.compat.v1.summary.merge_all instead.\n",
      "\n",
      "WARNING:tensorflow:From C:\\Users\\ERAZER\\Anaconda3\\lib\\site-packages\\keras\\callbacks\\tensorboard_v1.py:203: The name tf.summary.FileWriter is deprecated. Please use tf.compat.v1.summary.FileWriter instead.\n",
      "\n",
      "Epoch 1/100\n",
      "4500/4500 [==============================] - 0s 81us/step - loss: 0.8036 - accuracy: 0.7162 - f1_m: 0.6970 - val_loss: 0.7735 - val_accuracy: 0.7240 - val_f1_m: 0.7297\n",
      "WARNING:tensorflow:From C:\\Users\\ERAZER\\Anaconda3\\lib\\site-packages\\keras\\callbacks\\tensorboard_v1.py:343: The name tf.Summary is deprecated. Please use tf.compat.v1.Summary instead.\n",
      "\n",
      "Epoch 2/100\n",
      "4500/4500 [==============================] - 0s 17us/step - loss: 0.7287 - accuracy: 0.7418 - f1_m: 0.7394 - val_loss: 0.7754 - val_accuracy: 0.7280 - val_f1_m: 0.7251\n",
      "Epoch 3/100\n",
      "4500/4500 [==============================] - 0s 16us/step - loss: 0.7269 - accuracy: 0.7427 - f1_m: 0.7425 - val_loss: 0.7850 - val_accuracy: 0.7260 - val_f1_m: 0.7250\n",
      "Epoch 4/100\n",
      "4500/4500 [==============================] - 0s 18us/step - loss: 0.7188 - accuracy: 0.7420 - f1_m: 0.7405 - val_loss: 0.7688 - val_accuracy: 0.7280 - val_f1_m: 0.7204\n",
      "Epoch 5/100\n",
      "4500/4500 [==============================] - 0s 20us/step - loss: 0.7163 - accuracy: 0.7393 - f1_m: 0.7362 - val_loss: 0.7681 - val_accuracy: 0.7320 - val_f1_m: 0.7252\n",
      "Epoch 6/100\n",
      "4500/4500 [==============================] - 0s 18us/step - loss: 0.7109 - accuracy: 0.7433 - f1_m: 0.7350 - val_loss: 0.7640 - val_accuracy: 0.7280 - val_f1_m: 0.7173\n",
      "Epoch 7/100\n",
      "4500/4500 [==============================] - 0s 18us/step - loss: 0.7082 - accuracy: 0.7411 - f1_m: 0.7376 - val_loss: 0.7644 - val_accuracy: 0.7300 - val_f1_m: 0.7288\n",
      "Epoch 8/100\n",
      "4500/4500 [==============================] - 0s 17us/step - loss: 0.7043 - accuracy: 0.7424 - f1_m: 0.7410 - val_loss: 0.7778 - val_accuracy: 0.7260 - val_f1_m: 0.7230\n",
      "Epoch 9/100\n",
      "4500/4500 [==============================] - 0s 18us/step - loss: 0.7039 - accuracy: 0.7424 - f1_m: 0.7414 - val_loss: 0.7942 - val_accuracy: 0.7260 - val_f1_m: 0.7246\n",
      "Epoch 10/100\n",
      "4500/4500 [==============================] - 0s 16us/step - loss: 0.7038 - accuracy: 0.7420 - f1_m: 0.7372 - val_loss: 0.7806 - val_accuracy: 0.7140 - val_f1_m: 0.7116\n",
      "Epoch 11/100\n",
      "4500/4500 [==============================] - 0s 17us/step - loss: 0.7054 - accuracy: 0.7440 - f1_m: 0.7346 - val_loss: 0.7998 - val_accuracy: 0.7260 - val_f1_m: 0.7259\n",
      "Epoch 12/100\n",
      "4500/4500 [==============================] - 0s 16us/step - loss: 0.7058 - accuracy: 0.7396 - f1_m: 0.7378 - val_loss: 0.7701 - val_accuracy: 0.7260 - val_f1_m: 0.7209\n",
      "Epoch 13/100\n",
      "4500/4500 [==============================] - 0s 17us/step - loss: 0.6959 - accuracy: 0.7436 - f1_m: 0.7369 - val_loss: 0.8070 - val_accuracy: 0.7220 - val_f1_m: 0.7110\n",
      "Epoch 14/100\n",
      "4500/4500 [==============================] - 0s 17us/step - loss: 0.6998 - accuracy: 0.7416 - f1_m: 0.7360 - val_loss: 0.8189 - val_accuracy: 0.7160 - val_f1_m: 0.7207\n",
      "Epoch 15/100\n",
      "4500/4500 [==============================] - 0s 17us/step - loss: 0.6964 - accuracy: 0.7451 - f1_m: 0.7377 - val_loss: 0.7934 - val_accuracy: 0.7200 - val_f1_m: 0.7148\n",
      "Epoch 16/100\n",
      "4500/4500 [==============================] - 0s 17us/step - loss: 0.6899 - accuracy: 0.7453 - f1_m: 0.7418 - val_loss: 0.7892 - val_accuracy: 0.7260 - val_f1_m: 0.7173\n",
      "Epoch 17/100\n",
      "4500/4500 [==============================] - 0s 16us/step - loss: 0.6836 - accuracy: 0.7464 - f1_m: 0.7459 - val_loss: 0.8568 - val_accuracy: 0.7140 - val_f1_m: 0.7139\n",
      "Epoch 18/100\n",
      "4500/4500 [==============================] - 0s 18us/step - loss: 0.6974 - accuracy: 0.7398 - f1_m: 0.7324 - val_loss: 0.8371 - val_accuracy: 0.7060 - val_f1_m: 0.7003\n",
      "Epoch 19/100\n",
      "4500/4500 [==============================] - 0s 17us/step - loss: 0.6910 - accuracy: 0.7409 - f1_m: 0.7391 - val_loss: 0.7994 - val_accuracy: 0.7240 - val_f1_m: 0.7239\n",
      "Epoch 20/100\n",
      "4500/4500 [==============================] - 0s 17us/step - loss: 0.6800 - accuracy: 0.7476 - f1_m: 0.7453 - val_loss: 0.7954 - val_accuracy: 0.7160 - val_f1_m: 0.7163\n"
     ]
    },
    {
     "name": "stdout",
     "output_type": "stream",
     "text": [
      "Epoch 21/100\n",
      "4500/4500 [==============================] - 0s 18us/step - loss: 0.6806 - accuracy: 0.7429 - f1_m: 0.7342 - val_loss: 0.8002 - val_accuracy: 0.7240 - val_f1_m: 0.7157\n",
      "Epoch 22/100\n",
      "4500/4500 [==============================] - 0s 17us/step - loss: 0.6683 - accuracy: 0.7449 - f1_m: 0.7410 - val_loss: 0.8634 - val_accuracy: 0.7180 - val_f1_m: 0.7214\n",
      "Epoch 23/100\n",
      "4500/4500 [==============================] - 0s 16us/step - loss: 0.6718 - accuracy: 0.7484 - f1_m: 0.7497 - val_loss: 0.8660 - val_accuracy: 0.7140 - val_f1_m: 0.7085\n",
      "Epoch 24/100\n",
      "4500/4500 [==============================] - 0s 17us/step - loss: 0.6583 - accuracy: 0.7502 - f1_m: 0.7446 - val_loss: 0.8837 - val_accuracy: 0.7060 - val_f1_m: 0.7031\n",
      "Epoch 25/100\n",
      "4500/4500 [==============================] - 0s 16us/step - loss: 0.6511 - accuracy: 0.7493 - f1_m: 0.7428 - val_loss: 0.9132 - val_accuracy: 0.7260 - val_f1_m: 0.7235\n",
      "Epoch 26/100\n",
      "4500/4500 [==============================] - 0s 16us/step - loss: 0.6479 - accuracy: 0.7489 - f1_m: 0.7460 - val_loss: 0.8671 - val_accuracy: 0.7020 - val_f1_m: 0.6942\n",
      "Epoch 27/100\n",
      "4500/4500 [==============================] - 0s 16us/step - loss: 0.6561 - accuracy: 0.7500 - f1_m: 0.7458 - val_loss: 0.8526 - val_accuracy: 0.7080 - val_f1_m: 0.7069\n",
      "Epoch 28/100\n",
      "4500/4500 [==============================] - 0s 17us/step - loss: 0.6582 - accuracy: 0.7469 - f1_m: 0.7473 - val_loss: 0.8850 - val_accuracy: 0.7100 - val_f1_m: 0.7088\n",
      "Epoch 29/100\n",
      "4500/4500 [==============================] - 0s 16us/step - loss: 0.6426 - accuracy: 0.7533 - f1_m: 0.7507 - val_loss: 0.9386 - val_accuracy: 0.7140 - val_f1_m: 0.7066\n",
      "Epoch 30/100\n",
      "4500/4500 [==============================] - 0s 15us/step - loss: 0.6417 - accuracy: 0.7531 - f1_m: 0.7471 - val_loss: 0.9248 - val_accuracy: 0.7120 - val_f1_m: 0.6950\n",
      "Epoch 31/100\n",
      "4500/4500 [==============================] - 0s 16us/step - loss: 0.6225 - accuracy: 0.7611 - f1_m: 0.7563 - val_loss: 0.9428 - val_accuracy: 0.7080 - val_f1_m: 0.7033\n",
      "Epoch 32/100\n",
      "4500/4500 [==============================] - 0s 16us/step - loss: 0.6192 - accuracy: 0.7598 - f1_m: 0.7575 - val_loss: 0.9875 - val_accuracy: 0.6980 - val_f1_m: 0.6999\n",
      "Epoch 33/100\n",
      "4500/4500 [==============================] - 0s 15us/step - loss: 0.6293 - accuracy: 0.7569 - f1_m: 0.7560 - val_loss: 0.9257 - val_accuracy: 0.7140 - val_f1_m: 0.7141\n",
      "Epoch 34/100\n",
      "4500/4500 [==============================] - 0s 16us/step - loss: 0.6344 - accuracy: 0.7504 - f1_m: 0.7425 - val_loss: 0.9594 - val_accuracy: 0.6900 - val_f1_m: 0.6859\n",
      "Epoch 35/100\n",
      "4500/4500 [==============================] - 0s 16us/step - loss: 0.6235 - accuracy: 0.7620 - f1_m: 0.7622 - val_loss: 0.9588 - val_accuracy: 0.7020 - val_f1_m: 0.6994\n",
      "Epoch 36/100\n",
      "4500/4500 [==============================] - 0s 16us/step - loss: 0.6007 - accuracy: 0.7618 - f1_m: 0.7587 - val_loss: 1.0749 - val_accuracy: 0.6760 - val_f1_m: 0.6668\n",
      "Epoch 37/100\n",
      "4500/4500 [==============================] - 0s 15us/step - loss: 0.5889 - accuracy: 0.7627 - f1_m: 0.7582 - val_loss: 1.0420 - val_accuracy: 0.6920 - val_f1_m: 0.6869\n",
      "Epoch 38/100\n",
      "4500/4500 [==============================] - 0s 16us/step - loss: 0.5742 - accuracy: 0.7696 - f1_m: 0.7680 - val_loss: 0.9751 - val_accuracy: 0.7140 - val_f1_m: 0.7116\n",
      "Epoch 39/100\n",
      "4500/4500 [==============================] - 0s 16us/step - loss: 0.5870 - accuracy: 0.7680 - f1_m: 0.7690 - val_loss: 1.1494 - val_accuracy: 0.6980 - val_f1_m: 0.6999\n",
      "Epoch 40/100\n",
      "4500/4500 [==============================] - 0s 15us/step - loss: 0.5667 - accuracy: 0.7718 - f1_m: 0.7701 - val_loss: 1.2266 - val_accuracy: 0.6780 - val_f1_m: 0.6694\n",
      "Epoch 41/100\n",
      "4500/4500 [==============================] - 0s 17us/step - loss: 0.5708 - accuracy: 0.7758 - f1_m: 0.7718 - val_loss: 1.1889 - val_accuracy: 0.6620 - val_f1_m: 0.6396\n",
      "Epoch 42/100\n",
      "4500/4500 [==============================] - 0s 16us/step - loss: 0.5466 - accuracy: 0.7778 - f1_m: 0.7778 - val_loss: 1.2877 - val_accuracy: 0.6720 - val_f1_m: 0.6602\n",
      "Epoch 43/100\n",
      "4500/4500 [==============================] - 0s 16us/step - loss: 0.5291 - accuracy: 0.7827 - f1_m: 0.7777 - val_loss: 1.2744 - val_accuracy: 0.6820 - val_f1_m: 0.6719\n",
      "Epoch 44/100\n",
      "4500/4500 [==============================] - 0s 16us/step - loss: 0.5279 - accuracy: 0.7833 - f1_m: 0.7814 - val_loss: 1.2512 - val_accuracy: 0.7020 - val_f1_m: 0.6994\n",
      "Epoch 45/100\n",
      "4500/4500 [==============================] - 0s 16us/step - loss: 0.5219 - accuracy: 0.7820 - f1_m: 0.7800 - val_loss: 1.4010 - val_accuracy: 0.6180 - val_f1_m: 0.6145\n",
      "Epoch 46/100\n",
      "4500/4500 [==============================] - 0s 16us/step - loss: 0.5329 - accuracy: 0.7829 - f1_m: 0.7800 - val_loss: 1.2992 - val_accuracy: 0.6900 - val_f1_m: 0.6803\n",
      "Epoch 47/100\n",
      "4500/4500 [==============================] - 0s 16us/step - loss: 0.5359 - accuracy: 0.7922 - f1_m: 0.7891 - val_loss: 1.1984 - val_accuracy: 0.6880 - val_f1_m: 0.6829\n",
      "Epoch 48/100\n",
      "4500/4500 [==============================] - 0s 17us/step - loss: 0.5187 - accuracy: 0.7949 - f1_m: 0.7960 - val_loss: 1.2213 - val_accuracy: 0.6880 - val_f1_m: 0.6914\n",
      "Epoch 49/100\n",
      "4500/4500 [==============================] - 0s 16us/step - loss: 0.5215 - accuracy: 0.7882 - f1_m: 0.7826 - val_loss: 1.1830 - val_accuracy: 0.6680 - val_f1_m: 0.6578\n",
      "Epoch 50/100\n",
      "4500/4500 [==============================] - 0s 16us/step - loss: 0.5174 - accuracy: 0.7880 - f1_m: 0.7782 - val_loss: 1.3359 - val_accuracy: 0.6340 - val_f1_m: 0.6278\n",
      "Epoch 51/100\n",
      "4500/4500 [==============================] - 0s 16us/step - loss: 0.5548 - accuracy: 0.7776 - f1_m: 0.7820 - val_loss: 1.2697 - val_accuracy: 0.6920 - val_f1_m: 0.6915\n",
      "Epoch 52/100\n",
      "4500/4500 [==============================] - 0s 14us/step - loss: 0.5151 - accuracy: 0.7847 - f1_m: 0.7870 - val_loss: 1.3854 - val_accuracy: 0.7060 - val_f1_m: 0.6928\n",
      "Epoch 53/100\n",
      "4500/4500 [==============================] - 0s 16us/step - loss: 0.5117 - accuracy: 0.7971 - f1_m: 0.7947 - val_loss: 1.3472 - val_accuracy: 0.6940 - val_f1_m: 0.6965\n",
      "Epoch 54/100\n",
      "4500/4500 [==============================] - 0s 15us/step - loss: 0.4676 - accuracy: 0.8091 - f1_m: 0.8086 - val_loss: 1.4685 - val_accuracy: 0.6720 - val_f1_m: 0.6693\n",
      "Epoch 55/100\n",
      "4500/4500 [==============================] - 0s 16us/step - loss: 0.5038 - accuracy: 0.7953 - f1_m: 0.7944 - val_loss: 1.3328 - val_accuracy: 0.6140 - val_f1_m: 0.6115\n",
      "Epoch 56/100\n",
      "4500/4500 [==============================] - 0s 16us/step - loss: 0.4878 - accuracy: 0.8009 - f1_m: 0.8020 - val_loss: 1.4701 - val_accuracy: 0.6560 - val_f1_m: 0.6604\n",
      "Epoch 57/100\n",
      "4500/4500 [==============================] - 0s 16us/step - loss: 0.4596 - accuracy: 0.8102 - f1_m: 0.8115 - val_loss: 1.5187 - val_accuracy: 0.6700 - val_f1_m: 0.6671\n",
      "Epoch 58/100\n",
      "4500/4500 [==============================] - 0s 16us/step - loss: 0.4321 - accuracy: 0.8156 - f1_m: 0.8170 - val_loss: 1.6243 - val_accuracy: 0.6080 - val_f1_m: 0.6058\n",
      "Epoch 59/100\n",
      "4500/4500 [==============================] - 0s 14us/step - loss: 0.4545 - accuracy: 0.8224 - f1_m: 0.8180 - val_loss: 1.6031 - val_accuracy: 0.6440 - val_f1_m: 0.6441\n",
      "Epoch 60/100\n",
      "4500/4500 [==============================] - 0s 15us/step - loss: 0.4384 - accuracy: 0.8227 - f1_m: 0.8170 - val_loss: 1.6484 - val_accuracy: 0.6420 - val_f1_m: 0.6388\n",
      "Epoch 61/100\n",
      "4500/4500 [==============================] - 0s 14us/step - loss: 0.4165 - accuracy: 0.8267 - f1_m: 0.8296 - val_loss: 1.5551 - val_accuracy: 0.6560 - val_f1_m: 0.6588\n",
      "Epoch 62/100\n",
      "4500/4500 [==============================] - 0s 15us/step - loss: 0.3711 - accuracy: 0.8407 - f1_m: 0.8417 - val_loss: 1.7631 - val_accuracy: 0.6660 - val_f1_m: 0.6658\n",
      "Epoch 63/100\n",
      "4500/4500 [==============================] - 0s 15us/step - loss: 0.3453 - accuracy: 0.8533 - f1_m: 0.8513 - val_loss: 1.9314 - val_accuracy: 0.6460 - val_f1_m: 0.6422\n",
      "Epoch 64/100\n",
      "4500/4500 [==============================] - 0s 16us/step - loss: 0.4016 - accuracy: 0.8369 - f1_m: 0.8353 - val_loss: 1.6888 - val_accuracy: 0.6400 - val_f1_m: 0.6395\n",
      "Epoch 65/100\n",
      "4500/4500 [==============================] - 0s 15us/step - loss: 0.3979 - accuracy: 0.8289 - f1_m: 0.8313 - val_loss: 1.7670 - val_accuracy: 0.6180 - val_f1_m: 0.6115\n",
      "Epoch 66/100\n",
      "4500/4500 [==============================] - 0s 17us/step - loss: 0.3979 - accuracy: 0.8398 - f1_m: 0.8375 - val_loss: 2.1289 - val_accuracy: 0.6080 - val_f1_m: 0.6096\n",
      "Epoch 67/100\n",
      "4500/4500 [==============================] - 0s 16us/step - loss: 0.4957 - accuracy: 0.8144 - f1_m: 0.8132 - val_loss: 1.5440 - val_accuracy: 0.6740 - val_f1_m: 0.6736\n",
      "Epoch 68/100\n",
      "4500/4500 [==============================] - 0s 16us/step - loss: 0.4429 - accuracy: 0.8213 - f1_m: 0.8213 - val_loss: 1.5948 - val_accuracy: 0.6640 - val_f1_m: 0.6564\n",
      "Epoch 69/100\n",
      "4500/4500 [==============================] - 0s 18us/step - loss: 0.3888 - accuracy: 0.8384 - f1_m: 0.8380 - val_loss: 1.8478 - val_accuracy: 0.6000 - val_f1_m: 0.6040\n",
      "Epoch 70/100\n",
      "4500/4500 [==============================] - 0s 17us/step - loss: 0.3594 - accuracy: 0.8504 - f1_m: 0.8505 - val_loss: 2.0676 - val_accuracy: 0.6240 - val_f1_m: 0.6228\n",
      "Epoch 71/100\n",
      "4500/4500 [==============================] - 0s 16us/step - loss: 0.3612 - accuracy: 0.8513 - f1_m: 0.8481 - val_loss: 1.9778 - val_accuracy: 0.6200 - val_f1_m: 0.6209\n",
      "Epoch 72/100\n",
      "4500/4500 [==============================] - 0s 15us/step - loss: 0.3252 - accuracy: 0.8611 - f1_m: 0.8592 - val_loss: 2.2000 - val_accuracy: 0.6380 - val_f1_m: 0.6363\n",
      "Epoch 73/100\n",
      "4500/4500 [==============================] - 0s 16us/step - loss: 0.3093 - accuracy: 0.8731 - f1_m: 0.8719 - val_loss: 2.1750 - val_accuracy: 0.6440 - val_f1_m: 0.6456\n",
      "Epoch 74/100\n",
      "4500/4500 [==============================] - 0s 16us/step - loss: 0.3135 - accuracy: 0.8698 - f1_m: 0.8705 - val_loss: 2.1064 - val_accuracy: 0.6460 - val_f1_m: 0.6445\n",
      "Epoch 75/100\n",
      "4500/4500 [==============================] - 0s 16us/step - loss: 0.3026 - accuracy: 0.8682 - f1_m: 0.8702 - val_loss: 2.3409 - val_accuracy: 0.6260 - val_f1_m: 0.6253\n",
      "Epoch 76/100\n",
      "4500/4500 [==============================] - 0s 16us/step - loss: 0.3479 - accuracy: 0.8602 - f1_m: 0.8586 - val_loss: 2.3123 - val_accuracy: 0.6400 - val_f1_m: 0.6391\n",
      "Epoch 77/100\n",
      "4500/4500 [==============================] - 0s 15us/step - loss: 0.3482 - accuracy: 0.8600 - f1_m: 0.8605 - val_loss: 2.0354 - val_accuracy: 0.6420 - val_f1_m: 0.6410\n",
      "Epoch 78/100\n",
      "4500/4500 [==============================] - 0s 16us/step - loss: 0.3611 - accuracy: 0.8569 - f1_m: 0.8552 - val_loss: 2.0820 - val_accuracy: 0.6300 - val_f1_m: 0.6262\n",
      "Epoch 79/100\n",
      "4500/4500 [==============================] - 0s 16us/step - loss: 0.4007 - accuracy: 0.8422 - f1_m: 0.8434 - val_loss: 1.9656 - val_accuracy: 0.6380 - val_f1_m: 0.6376\n",
      "Epoch 80/100\n",
      "4500/4500 [==============================] - 0s 16us/step - loss: 0.3492 - accuracy: 0.8576 - f1_m: 0.8538 - val_loss: 2.1326 - val_accuracy: 0.6340 - val_f1_m: 0.6313\n",
      "Epoch 81/100\n",
      "4500/4500 [==============================] - 0s 15us/step - loss: 0.2942 - accuracy: 0.8811 - f1_m: 0.8813 - val_loss: 2.3702 - val_accuracy: 0.6000 - val_f1_m: 0.6018\n",
      "Epoch 82/100\n",
      "4500/4500 [==============================] - 0s 17us/step - loss: 0.2837 - accuracy: 0.8878 - f1_m: 0.8874 - val_loss: 2.6079 - val_accuracy: 0.6160 - val_f1_m: 0.6190\n",
      "Epoch 83/100\n",
      "4500/4500 [==============================] - 0s 16us/step - loss: 0.2706 - accuracy: 0.8911 - f1_m: 0.8883 - val_loss: 2.5789 - val_accuracy: 0.6000 - val_f1_m: 0.6039\n",
      "Epoch 84/100\n",
      "4500/4500 [==============================] - 0s 15us/step - loss: 0.3041 - accuracy: 0.8784 - f1_m: 0.8781 - val_loss: 2.8523 - val_accuracy: 0.6260 - val_f1_m: 0.6277\n",
      "Epoch 85/100\n",
      "4500/4500 [==============================] - 0s 15us/step - loss: 0.3455 - accuracy: 0.8629 - f1_m: 0.8606 - val_loss: 2.4265 - val_accuracy: 0.6080 - val_f1_m: 0.6106\n",
      "Epoch 86/100\n",
      "4500/4500 [==============================] - 0s 15us/step - loss: 0.3254 - accuracy: 0.8713 - f1_m: 0.8699 - val_loss: 2.2788 - val_accuracy: 0.6520 - val_f1_m: 0.6510\n",
      "Epoch 87/100\n",
      "4500/4500 [==============================] - 0s 14us/step - loss: 0.3170 - accuracy: 0.8764 - f1_m: 0.8770 - val_loss: 2.3942 - val_accuracy: 0.6200 - val_f1_m: 0.6221\n",
      "Epoch 88/100\n",
      "4500/4500 [==============================] - 0s 16us/step - loss: 0.2892 - accuracy: 0.8893 - f1_m: 0.8855 - val_loss: 2.6683 - val_accuracy: 0.6160 - val_f1_m: 0.6157\n",
      "Epoch 89/100\n",
      "4500/4500 [==============================] - 0s 16us/step - loss: 0.2983 - accuracy: 0.8844 - f1_m: 0.8840 - val_loss: 2.3495 - val_accuracy: 0.6400 - val_f1_m: 0.6394\n",
      "Epoch 90/100\n",
      "4500/4500 [==============================] - 0s 16us/step - loss: 0.2868 - accuracy: 0.8853 - f1_m: 0.8852 - val_loss: 2.5710 - val_accuracy: 0.6320 - val_f1_m: 0.6254\n",
      "Epoch 91/100\n",
      "4500/4500 [==============================] - 0s 16us/step - loss: 0.2925 - accuracy: 0.8853 - f1_m: 0.8820 - val_loss: 2.3438 - val_accuracy: 0.6500 - val_f1_m: 0.6486\n",
      "Epoch 92/100\n",
      "4500/4500 [==============================] - 0s 15us/step - loss: 0.2646 - accuracy: 0.8967 - f1_m: 0.8969 - val_loss: 2.7613 - val_accuracy: 0.5900 - val_f1_m: 0.5901\n",
      "Epoch 93/100\n",
      "4500/4500 [==============================] - 0s 15us/step - loss: 0.2578 - accuracy: 0.8969 - f1_m: 0.8959 - val_loss: 3.0153 - val_accuracy: 0.5740 - val_f1_m: 0.5720\n",
      "Epoch 94/100\n",
      "4500/4500 [==============================] - 0s 16us/step - loss: 0.2462 - accuracy: 0.9009 - f1_m: 0.9017 - val_loss: 2.8199 - val_accuracy: 0.6120 - val_f1_m: 0.6109\n",
      "Epoch 95/100\n",
      "4500/4500 [==============================] - 0s 16us/step - loss: 0.2250 - accuracy: 0.9102 - f1_m: 0.9098 - val_loss: 2.9343 - val_accuracy: 0.6020 - val_f1_m: 0.6010\n",
      "Epoch 96/100\n",
      "4500/4500 [==============================] - 0s 15us/step - loss: 0.2569 - accuracy: 0.9027 - f1_m: 0.8990 - val_loss: 3.0128 - val_accuracy: 0.5880 - val_f1_m: 0.5879\n",
      "Epoch 97/100\n",
      "4500/4500 [==============================] - 0s 15us/step - loss: 0.4642 - accuracy: 0.8378 - f1_m: 0.8396 - val_loss: 2.1782 - val_accuracy: 0.6340 - val_f1_m: 0.6396\n",
      "Epoch 98/100\n",
      "4500/4500 [==============================] - 0s 14us/step - loss: 0.3768 - accuracy: 0.8522 - f1_m: 0.8507 - val_loss: 2.3785 - val_accuracy: 0.6400 - val_f1_m: 0.6376\n",
      "Epoch 99/100\n",
      "4500/4500 [==============================] - 0s 14us/step - loss: 0.3704 - accuracy: 0.8560 - f1_m: 0.8570 - val_loss: 2.2351 - val_accuracy: 0.6440 - val_f1_m: 0.6421\n",
      "Epoch 100/100\n",
      "4500/4500 [==============================] - 0s 14us/step - loss: 0.3029 - accuracy: 0.8842 - f1_m: 0.8867 - val_loss: 2.5419 - val_accuracy: 0.6060 - val_f1_m: 0.6048\n"
     ]
    },
    {
     "data": {
      "text/plain": [
       "<keras.callbacks.callbacks.History at 0x27764abc908>"
      ]
     },
     "execution_count": 82,
     "metadata": {},
     "output_type": "execute_result"
    }
   ],
   "source": [
    "logdir = \"logs/scalars/\" + datetime.now().strftime(\"%Y%m%d-%H%M%S\")\n",
    "tensorboard_callback = keras.callbacks.TensorBoard(log_dir=logdir)\n",
    "model = model_keras()\n",
    "model.fit([pilot_categorical, pilot_numerical], labels, epochs=100, validation_split=0.1, batch_size=128,\n",
    "          callbacks=[tensorboard_callback])"
   ]
  },
  {
   "cell_type": "code",
   "execution_count": 83,
   "metadata": {},
   "outputs": [
    {
     "name": "stdout",
     "output_type": "stream",
     "text": [
      "The tensorboard extension is already loaded. To reload it, use:\n",
      "  %reload_ext tensorboard\n",
      "Known TensorBoard instances:\n",
      "  - port 6006: logdir logs (started 0:15:01 ago; pid 7160)\n",
      "Selecting TensorBoard with logdir logs (started 0:15:01 ago; port 6006, pid 7160).\n"
     ]
    },
    {
     "data": {
      "text/html": [
       "\n",
       "        <iframe\n",
       "            width=\"100%\"\n",
       "            height=\"1000\"\n",
       "            src=\"http://localhost:6006\"\n",
       "            frameborder=\"0\"\n",
       "            allowfullscreen\n",
       "        ></iframe>\n",
       "        "
      ],
      "text/plain": [
       "<IPython.lib.display.IFrame at 0x2775f583d08>"
      ]
     },
     "metadata": {},
     "output_type": "display_data"
    }
   ],
   "source": [
    "from tensorboard import notebook\n",
    "%load_ext tensorboard\n",
    "# %tensorboard --logdir logs\n",
    "notebook.list() \n",
    "notebook.display(port=6006, height=1000) "
   ]
  },
  {
   "cell_type": "code",
   "execution_count": 84,
   "metadata": {},
   "outputs": [],
   "source": [
    "output = model.predict([CB_categorical, CB_numerical])"
   ]
  },
  {
   "cell_type": "code",
   "execution_count": 85,
   "metadata": {},
   "outputs": [
    {
     "name": "stdout",
     "output_type": "stream",
     "text": [
      "0:0\t=\t 76496\n",
      "1:0\t=\t 11300\n",
      "0:1\t=\t 5355\n",
      "1:1\t=\t 1849\n"
     ]
    }
   ],
   "source": [
    "print('0:0\\t=\\t', (np.sum(np.argmax(output, axis=-1) == 0)))\n",
    "print('1:0\\t=\\t', (np.sum(np.argmax(output, axis=-1) == 1)))\n",
    "print('0:1\\t=\\t', (np.sum(np.argmax(output, axis=-1) == 2)))\n",
    "print('1:1\\t=\\t', (np.sum(np.argmax(output, axis=-1) == 3)))"
   ]
  },
  {
   "cell_type": "code",
   "execution_count": 86,
   "metadata": {},
   "outputs": [
    {
     "data": {
      "text/plain": [
       "6109"
      ]
     },
     "execution_count": 86,
     "metadata": {},
     "output_type": "execute_result"
    }
   ],
   "source": [
    "idx = np.argwhere(np.argmax(output, axis=-1) == 0)  # those who are 0:0\n",
    "a = output[idx].squeeze()\n",
    "np.array([np.argsort(a[i])[2] == 3 for i in range(len(a))]).sum() \n"
   ]
  },
  {
   "cell_type": "markdown",
   "metadata": {},
   "source": [
    "That gives information how many of the clients who classify as 0:0 are the closest (their second prediction) to a group 1:1, and they should be contacted just after all 1:1 and 0:1 are already contacted."
   ]
  },
  {
   "cell_type": "code",
   "execution_count": 87,
   "metadata": {},
   "outputs": [],
   "source": [
    "subindeces_0 = [np.argsort(a[i])[2] == 3 for i in range(len(a))]"
   ]
  },
  {
   "cell_type": "code",
   "execution_count": 88,
   "metadata": {},
   "outputs": [],
   "source": [
    "subindeces_0 = np.argwhere(subindeces_0)"
   ]
  },
  {
   "cell_type": "code",
   "execution_count": 89,
   "metadata": {},
   "outputs": [],
   "source": [
    "index_class_0=[0]*95000\n",
    "for i in range(len(subindeces_0)):\n",
    "    index_class_0[idx[subindeces_0[i][0]][0]] = 1"
   ]
  },
  {
   "cell_type": "code",
   "execution_count": 90,
   "metadata": {},
   "outputs": [
    {
     "data": {
      "text/plain": [
       "6109"
      ]
     },
     "execution_count": 90,
     "metadata": {},
     "output_type": "execute_result"
    }
   ],
   "source": [
    "sum(index_class_0)  # double - check"
   ]
  },
  {
   "cell_type": "code",
   "execution_count": 91,
   "metadata": {},
   "outputs": [],
   "source": [
    "index_class_3 = (np.argmax(output, axis=-1) == 3)\n",
    "index_class_2 = (np.argmax(output, axis=-1) == 2)"
   ]
  },
  {
   "cell_type": "code",
   "execution_count": 92,
   "metadata": {},
   "outputs": [],
   "source": [
    "call_keras_model = [0] * 95000\n",
    "for i in range(95000):\n",
    "    call_keras_model[i] = int(index_class_3[i]) + int(index_class_2[i]) + int(index_class_0[i])"
   ]
  },
  {
   "cell_type": "code",
   "execution_count": 93,
   "metadata": {},
   "outputs": [
    {
     "data": {
      "text/plain": [
       "(95000, 13313)"
      ]
     },
     "execution_count": 93,
     "metadata": {},
     "output_type": "execute_result"
    }
   ],
   "source": [
    "len(call_keras_model), sum(call_keras_model)"
   ]
  },
  {
   "cell_type": "markdown",
   "metadata": {},
   "source": [
    "Limit of the call center is 23750 clients, hence in this case there is no need to consider the order of calling"
   ]
  },
  {
   "cell_type": "code",
   "execution_count": 94,
   "metadata": {},
   "outputs": [],
   "source": [
    "df = pd.DataFrame(call_keras_model, columns=[\"decision\"])\n",
    "df.to_csv('decisions_keras_MLP.csv', index=False)"
   ]
  },
  {
   "cell_type": "markdown",
   "metadata": {},
   "source": [
    "Trying a bagging algorithm, random forest"
   ]
  },
  {
   "cell_type": "markdown",
   "metadata": {},
   "source": [
    "Looking for ways to optimize the performance of this classifier I resolved to tune hyperparameters using https://github.com/fmfn/BayesianOptimization library"
   ]
  },
  {
   "cell_type": "code",
   "execution_count": 95,
   "metadata": {},
   "outputs": [],
   "source": [
    "from bayes_opt import BayesianOptimization\n",
    "from sklearn.ensemble import RandomForestClassifier\n",
    "from sklearn.model_selection import cross_val_score"
   ]
  },
  {
   "cell_type": "code",
   "execution_count": 96,
   "metadata": {},
   "outputs": [],
   "source": [
    "def bayesian_optimization(X_train, X_test, y_train, y_test, function, parameters):\n",
    "    n_iterations = 10\n",
    "    gp_params = {\"alpha\": 1e-4}\n",
    "    BO = BayesianOptimization(function, parameters)\n",
    "    BO.maximize(n_iter=n_iterations, **gp_params)\n",
    "\n",
    "    return BO.max"
   ]
  },
  {
   "cell_type": "code",
   "execution_count": 97,
   "metadata": {},
   "outputs": [],
   "source": [
    "def rfc_optimization(cv_splits):\n",
    "    \n",
    "    def function(n_estimators, max_depth, min_samples_split):\n",
    "        \n",
    "        return cross_val_score(\n",
    "               RandomForestClassifier(\n",
    "                   n_estimators=int(max(n_estimators,0)),                                                               \n",
    "                   max_depth=int(max(max_depth,1)),\n",
    "                   min_samples_split=int(max(min_samples_split,2)), \n",
    "                   n_jobs=-1, \n",
    "                   random_state=42,   \n",
    "                   class_weight=\"balanced\"),  \n",
    "               X=X_train, \n",
    "               y=y_train, \n",
    "               cv=cv_splits,\n",
    "               scoring=\"f1_macro\",\n",
    "               n_jobs=-1).mean()\n",
    "\n",
    "    parameters = {\"n_estimators\": (10, 1000),\n",
    "                  \"max_depth\": (1, 150),\n",
    "                  \"min_samples_split\": (2, 10)}\n",
    "    \n",
    "    return function, parameters"
   ]
  },
  {
   "cell_type": "code",
   "execution_count": 98,
   "metadata": {},
   "outputs": [],
   "source": [
    "#Train model\n",
    "def train(X_train, y_train, X_test, y_test, function, parameters):\n",
    "    cv_splits = 4\n",
    "    \n",
    "    best_solution = bayesian_optimization(X_train, y_train, X_test, y_test, function, parameters)      \n",
    "    params = best_solution[\"params\"]\n",
    "\n",
    "    model = RandomForestClassifier(\n",
    "             n_estimators=int(max(params[\"n_estimators\"], 0)),\n",
    "             max_depth=int(max(params[\"max_depth\"], 1)),\n",
    "             min_samples_split=int(max(params[\"min_samples_split\"], 2)), \n",
    "             n_jobs=-1, \n",
    "             random_state=42,   \n",
    "             class_weight=\"balanced\")\n",
    "\n",
    "    model.fit(X_train, y_train)\n",
    "    \n",
    "    return model"
   ]
  },
  {
   "cell_type": "code",
   "execution_count": 99,
   "metadata": {},
   "outputs": [],
   "source": [
    "function, parameters = rfc_optimization(10)"
   ]
  },
  {
   "cell_type": "code",
   "execution_count": 100,
   "metadata": {},
   "outputs": [],
   "source": [
    "from sklearn.model_selection import train_test_split\n",
    "X_train, X_test, y_train, y_test = train_test_split(pd.concat([pd.DataFrame(pilot_numerical), pilot_categorical], axis=1), new_array, test_size=0.1, random_state=42)"
   ]
  },
  {
   "cell_type": "code",
   "execution_count": 101,
   "metadata": {},
   "outputs": [
    {
     "name": "stdout",
     "output_type": "stream",
     "text": [
      "|   iter    |  target   | max_depth | min_sa... | n_esti... |\n",
      "-------------------------------------------------------------\n",
      "| \u001b[0m 1       \u001b[0m | \u001b[0m 0.2252  \u001b[0m | \u001b[0m 71.36   \u001b[0m | \u001b[0m 5.067   \u001b[0m | \u001b[0m 801.0   \u001b[0m |\n",
      "| \u001b[95m 2       \u001b[0m | \u001b[95m 0.2316  \u001b[0m | \u001b[95m 118.0   \u001b[0m | \u001b[95m 6.402   \u001b[0m | \u001b[95m 507.8   \u001b[0m |\n",
      "| \u001b[95m 3       \u001b[0m | \u001b[95m 0.251   \u001b[0m | \u001b[95m 24.29   \u001b[0m | \u001b[95m 8.689   \u001b[0m | \u001b[95m 250.8   \u001b[0m |\n",
      "| \u001b[0m 4       \u001b[0m | \u001b[0m 0.2301  \u001b[0m | \u001b[0m 73.19   \u001b[0m | \u001b[0m 6.74    \u001b[0m | \u001b[0m 665.0   \u001b[0m |\n",
      "| \u001b[0m 5       \u001b[0m | \u001b[0m 0.2301  \u001b[0m | \u001b[0m 60.18   \u001b[0m | \u001b[0m 6.274   \u001b[0m | \u001b[0m 739.0   \u001b[0m |\n",
      "| \u001b[95m 6       \u001b[0m | \u001b[95m 0.2848  \u001b[0m | \u001b[95m 149.5   \u001b[0m | \u001b[95m 9.55    \u001b[0m | \u001b[95m 10.77   \u001b[0m |\n",
      "| \u001b[0m 7       \u001b[0m | \u001b[0m 0.2786  \u001b[0m | \u001b[0m 6.289   \u001b[0m | \u001b[0m 6.589   \u001b[0m | \u001b[0m 10.27   \u001b[0m |\n",
      "| \u001b[0m 8       \u001b[0m | \u001b[0m 0.2758  \u001b[0m | \u001b[0m 148.3   \u001b[0m | \u001b[0m 7.787   \u001b[0m | \u001b[0m 10.42   \u001b[0m |\n",
      "| \u001b[0m 9       \u001b[0m | \u001b[0m 0.1983  \u001b[0m | \u001b[0m 1.006   \u001b[0m | \u001b[0m 2.587   \u001b[0m | \u001b[0m 13.4    \u001b[0m |\n",
      "| \u001b[0m 10      \u001b[0m | \u001b[0m 0.2342  \u001b[0m | \u001b[0m 149.3   \u001b[0m | \u001b[0m 3.649   \u001b[0m | \u001b[0m 13.28   \u001b[0m |\n",
      "| \u001b[0m 11      \u001b[0m | \u001b[0m 0.201   \u001b[0m | \u001b[0m 1.0     \u001b[0m | \u001b[0m 10.0    \u001b[0m | \u001b[0m 1e+03   \u001b[0m |\n",
      "| \u001b[0m 12      \u001b[0m | \u001b[0m 0.2424  \u001b[0m | \u001b[0m 149.3   \u001b[0m | \u001b[0m 4.451   \u001b[0m | \u001b[0m 12.35   \u001b[0m |\n",
      "| \u001b[0m 13      \u001b[0m | \u001b[0m 0.2581  \u001b[0m | \u001b[0m 146.9   \u001b[0m | \u001b[0m 6.947   \u001b[0m | \u001b[0m 12.33   \u001b[0m |\n",
      "| \u001b[0m 14      \u001b[0m | \u001b[0m 0.2458  \u001b[0m | \u001b[0m 149.9   \u001b[0m | \u001b[0m 4.428   \u001b[0m | \u001b[0m 13.01   \u001b[0m |\n",
      "| \u001b[0m 15      \u001b[0m | \u001b[0m 0.2682  \u001b[0m | \u001b[0m 148.4   \u001b[0m | \u001b[0m 8.19    \u001b[0m | \u001b[0m 11.85   \u001b[0m |\n",
      "=============================================================\n"
     ]
    },
    {
     "data": {
      "text/plain": [
       "RandomForestClassifier(bootstrap=True, ccp_alpha=0.0, class_weight='balanced',\n",
       "                       criterion='gini', max_depth=149, max_features='auto',\n",
       "                       max_leaf_nodes=None, max_samples=None,\n",
       "                       min_impurity_decrease=0.0, min_impurity_split=None,\n",
       "                       min_samples_leaf=1, min_samples_split=9,\n",
       "                       min_weight_fraction_leaf=0.0, n_estimators=10, n_jobs=-1,\n",
       "                       oob_score=False, random_state=42, verbose=0,\n",
       "                       warm_start=False)"
      ]
     },
     "execution_count": 101,
     "metadata": {},
     "output_type": "execute_result"
    }
   ],
   "source": [
    "train(X_train, y_train, X_test, y_test, function, parameters)"
   ]
  },
  {
   "cell_type": "code",
   "execution_count": 102,
   "metadata": {},
   "outputs": [],
   "source": [
    "classifier = RandomForestClassifier(bootstrap=True, ccp_alpha=0.0, class_weight='balanced',\n",
    "                       criterion='gini', max_depth=6, max_features='auto',\n",
    "                       max_leaf_nodes=None, max_samples=None,\n",
    "                       min_impurity_decrease=0.0, min_impurity_split=None,\n",
    "                       min_samples_leaf=1, min_samples_split=4,\n",
    "                       min_weight_fraction_leaf=0.0, n_estimators=10, n_jobs=-1,\n",
    "                       oob_score=False, random_state=42, verbose=0,\n",
    "                       warm_start=False)"
   ]
  },
  {
   "cell_type": "markdown",
   "metadata": {},
   "source": [
    "The above cell is a copy-paste version of the output from optimization of the model. Choosing class_weight='balanced' to change the weight assigned to different classes"
   ]
  },
  {
   "cell_type": "code",
   "execution_count": 103,
   "metadata": {},
   "outputs": [
    {
     "name": "stdout",
     "output_type": "stream",
     "text": [
      "0.452\n"
     ]
    }
   ],
   "source": [
    "classifier.fit(X_train, y_train)\n",
    "print(classifier.score(X_test, y_test))"
   ]
  },
  {
   "cell_type": "markdown",
   "metadata": {},
   "source": [
    "I do believe this result to be rather not satisfactory, given more time, I would definitely improve here. "
   ]
  },
  {
   "cell_type": "code",
   "execution_count": 104,
   "metadata": {},
   "outputs": [
    {
     "data": {
      "text/plain": [
       "Index([0, 1, 2, 3, 4, 5, 6, 7, 8, 9, 10, 11, 12, 13, 14, 15, 16, 'V2', 'V18'], dtype='object')"
      ]
     },
     "execution_count": 104,
     "metadata": {},
     "output_type": "execute_result"
    }
   ],
   "source": [
    "X_train.columns"
   ]
  },
  {
   "cell_type": "code",
   "execution_count": 105,
   "metadata": {},
   "outputs": [],
   "source": [
    "to_predict = pd.concat([pd.DataFrame(CB_numerical), CB_categorical],axis=1)"
   ]
  },
  {
   "cell_type": "code",
   "execution_count": 106,
   "metadata": {},
   "outputs": [],
   "source": [
    "# rename the columns\n",
    "to_predict.columns = [0, 1, 2, 3, 4, 5, 6, 7, 8, 9, 10, 11, 12, 13, 14, 15, 16, 'V2', 'V18']"
   ]
  },
  {
   "cell_type": "code",
   "execution_count": 107,
   "metadata": {},
   "outputs": [],
   "source": [
    "outcome_forest = classifier.predict_proba(to_predict)"
   ]
  },
  {
   "cell_type": "code",
   "execution_count": 108,
   "metadata": {},
   "outputs": [
    {
     "name": "stdout",
     "output_type": "stream",
     "text": [
      "0:0\t=\t 48088\n"
     ]
    }
   ],
   "source": [
    "print('0:0\\t=\\t', np.sum([np.argmax(outcome_forest[i])==0 for i in range(95000)]))\n"
   ]
  },
  {
   "cell_type": "code",
   "execution_count": 109,
   "metadata": {},
   "outputs": [
    {
     "name": "stdout",
     "output_type": "stream",
     "text": [
      "1:0\t=\t 26119\n"
     ]
    }
   ],
   "source": [
    "print('1:0\\t=\\t', np.sum([np.argmax(outcome_forest[i])==1 for i in range(95000)]))"
   ]
  },
  {
   "cell_type": "code",
   "execution_count": 110,
   "metadata": {},
   "outputs": [
    {
     "name": "stdout",
     "output_type": "stream",
     "text": [
      "0:1\t=\t 16375\n"
     ]
    }
   ],
   "source": [
    "print('0:1\\t=\\t', np.sum([np.argmax(outcome_forest[i])==2 for i in range(95000)]))"
   ]
  },
  {
   "cell_type": "code",
   "execution_count": 111,
   "metadata": {},
   "outputs": [
    {
     "name": "stdout",
     "output_type": "stream",
     "text": [
      "1:1\t=\t 4418\n"
     ]
    }
   ],
   "source": [
    "print('1:1\\t=\\t', np.sum([np.argmax(outcome_forest[i])==3 for i in range(95000)]))"
   ]
  },
  {
   "cell_type": "markdown",
   "metadata": {},
   "source": [
    "See how many values were predicted as the 0, 1, 2 and 3. As before target those from class 0 (0 - 0) who were second close to being class 3 (1 - 1), as that increases the chances that they will make a purchase."
   ]
  },
  {
   "cell_type": "code",
   "execution_count": 112,
   "metadata": {},
   "outputs": [],
   "source": [
    "# get indices of class 0\n",
    "idx_0 = np.argwhere([np.argmax(outcome_forest[i])==0 for i in range(95000)]) "
   ]
  },
  {
   "cell_type": "code",
   "execution_count": 113,
   "metadata": {},
   "outputs": [
    {
     "data": {
      "text/plain": [
       "3519"
      ]
     },
     "execution_count": 113,
     "metadata": {},
     "output_type": "execute_result"
    }
   ],
   "source": [
    "idx_0.shape\n",
    "a = output[idx_0].squeeze()\n",
    "np.array([np.argsort(a[i])[2] == 3 for i in range(len(a))]).sum() "
   ]
  },
  {
   "cell_type": "code",
   "execution_count": 114,
   "metadata": {},
   "outputs": [
    {
     "data": {
      "text/plain": [
       "3519"
      ]
     },
     "execution_count": 114,
     "metadata": {},
     "output_type": "execute_result"
    }
   ],
   "source": [
    "# check how many of class 0 are close to veing classified as class 3\n",
    "np.array([np.argsort(a[i])[2] == 3 for i in range(len(a))]).sum() "
   ]
  },
  {
   "cell_type": "markdown",
   "metadata": {},
   "source": [
    "Now make the prediction which customers should be contacted in the form requested. Customers from classes 3, 2 and part of class 0 should be contacted."
   ]
  },
  {
   "cell_type": "code",
   "execution_count": 115,
   "metadata": {},
   "outputs": [],
   "source": [
    "class_3_indexes = [np.argmax(outcome_forest[i])==3 for i in range(95000)]"
   ]
  },
  {
   "cell_type": "code",
   "execution_count": 116,
   "metadata": {},
   "outputs": [],
   "source": [
    "class_2_indexes = [np.argmax(outcome_forest[i])==2 for i in range(95000)]"
   ]
  },
  {
   "cell_type": "code",
   "execution_count": 117,
   "metadata": {},
   "outputs": [],
   "source": [
    "part_of_class0_indices = [np.argsort(a[i])[2] == 3 for i in range(len(a))]"
   ]
  },
  {
   "cell_type": "code",
   "execution_count": 118,
   "metadata": {},
   "outputs": [
    {
     "data": {
      "text/plain": [
       "3519"
      ]
     },
     "execution_count": 118,
     "metadata": {},
     "output_type": "execute_result"
    }
   ],
   "source": [
    "np.sum(part_of_class0_indices)  # double - check"
   ]
  },
  {
   "cell_type": "code",
   "execution_count": 119,
   "metadata": {},
   "outputs": [
    {
     "data": {
      "text/plain": [
       "48088"
      ]
     },
     "execution_count": 119,
     "metadata": {},
     "output_type": "execute_result"
    }
   ],
   "source": [
    "len(part_of_class0_indices)"
   ]
  },
  {
   "cell_type": "code",
   "execution_count": 120,
   "metadata": {},
   "outputs": [],
   "source": [
    "ind = np.argwhere(part_of_class0_indices) "
   ]
  },
  {
   "cell_type": "code",
   "execution_count": 121,
   "metadata": {},
   "outputs": [],
   "source": [
    "class_0_indexes=95000 * [0]\n",
    "for i in range(len(ind)):\n",
    "    class_0_indexes[idx_0[ind[i][0]][0]] = 1"
   ]
  },
  {
   "cell_type": "code",
   "execution_count": 122,
   "metadata": {},
   "outputs": [
    {
     "data": {
      "text/plain": [
       "3519"
      ]
     },
     "execution_count": 122,
     "metadata": {},
     "output_type": "execute_result"
    }
   ],
   "source": [
    "np.sum(class_0_indexes)"
   ]
  },
  {
   "cell_type": "code",
   "execution_count": 123,
   "metadata": {},
   "outputs": [],
   "source": [
    "call = [0] * 95000\n",
    "for i in range(95000):\n",
    "    call[i] = int(class_3_indexes[i]) + int(class_2_indexes[i]) + int(class_0_indexes[i])"
   ]
  },
  {
   "cell_type": "code",
   "execution_count": 124,
   "metadata": {},
   "outputs": [
    {
     "data": {
      "text/plain": [
       "(95000, 24312)"
      ]
     },
     "execution_count": 124,
     "metadata": {},
     "output_type": "execute_result"
    }
   ],
   "source": [
    "len(call), sum(call)"
   ]
  },
  {
   "cell_type": "code",
   "execution_count": 125,
   "metadata": {},
   "outputs": [
    {
     "data": {
      "text/plain": [
       "(4418, 16375)"
      ]
     },
     "execution_count": 125,
     "metadata": {},
     "output_type": "execute_result"
    }
   ],
   "source": [
    "sum(class_3_indexes), sum(class_2_indexes)"
   ]
  },
  {
   "cell_type": "markdown",
   "metadata": {},
   "source": [
    "Limit of the call center is 23750 clients, hence in this case there might be a need to consider the order of calling. First call class 3 and class 2 and the ncall remaining part of class 0"
   ]
  },
  {
   "cell_type": "code",
   "execution_count": 126,
   "metadata": {},
   "outputs": [
    {
     "name": "stdout",
     "output_type": "stream",
     "text": [
      "remaining to call:\t 2957\n"
     ]
    }
   ],
   "source": [
    "flag=False\n",
    "if sum(call) > 0.25*95000:\n",
    "    flag=True\n",
    "    remaining_to_call = 23750 - (sum(class_3_indexes)+ sum(class_2_indexes))\n",
    "    print('remaining to call:\\t',23750 - (sum(class_3_indexes)+ sum(class_2_indexes)))"
   ]
  },
  {
   "cell_type": "code",
   "execution_count": 127,
   "metadata": {},
   "outputs": [],
   "source": [
    "if flag:\n",
    "    call_corrected = [0] * 95000\n",
    "    for i in range(95000):\n",
    "        call_corrected[i] = int(class_3_indexes[i]) + int(class_2_indexes[i])\n",
    "    called_from_class_0 = 0\n",
    "    i = 0\n",
    "    while called_from_class_0 < remaining_to_call:\n",
    "        call_corrected[i] = call_corrected[i] + int(class_0_indexes[i])\n",
    "        called_from_class_0+=int(class_0_indexes[i])\n",
    "        i+=1"
   ]
  },
  {
   "cell_type": "code",
   "execution_count": 128,
   "metadata": {},
   "outputs": [],
   "source": [
    "if flag:\n",
    "    sum(call_corrected)"
   ]
  },
  {
   "cell_type": "markdown",
   "metadata": {},
   "source": [
    "call - gives information which customers should be called, as they are most likely to be perpetuated to make a purchase because contacted"
   ]
  },
  {
   "cell_type": "code",
   "execution_count": 129,
   "metadata": {},
   "outputs": [],
   "source": [
    "if flag:\n",
    "    df = pd.DataFrame(call_corrected, columns=[\"decision\"])\n",
    "    df.to_csv('decisions_random_forest.csv', index=False)\n",
    "else:\n",
    "    df = pd.DataFrame(call, columns=[\"decision\"])\n",
    "    df.to_csv('decisions_random_forest.csv', index=False)"
   ]
  },
  {
   "cell_type": "markdown",
   "metadata": {},
   "source": [
    "The output of this code are two .csv files (decisions_random_forest.csv and decisions_keras_MLP.csv) with binary indications which clients hsould be called. As indicated in the instruction I have not spent too much time fine tuning the model - it is the part I would definitely spend some additional time if that were the objective of this excercise. During the process I found a Bayesian optimization package, which I would also happily explore more to find proper parameters for Random Forest. Similarly, I would rather have fine tuned the neural net architecture using one of AutoML algorithm, rather than hand-picking the hyperparameters."
   ]
  },
  {
   "cell_type": "code",
   "execution_count": null,
   "metadata": {},
   "outputs": [],
   "source": []
  }
 ],
 "metadata": {
  "kernelspec": {
   "display_name": "Python 3",
   "language": "python",
   "name": "python3"
  },
  "language_info": {
   "codemirror_mode": {
    "name": "ipython",
    "version": 3
   },
   "file_extension": ".py",
   "mimetype": "text/x-python",
   "name": "python",
   "nbconvert_exporter": "python",
   "pygments_lexer": "ipython3",
   "version": "3.7.3"
  }
 },
 "nbformat": 4,
 "nbformat_minor": 2
}
